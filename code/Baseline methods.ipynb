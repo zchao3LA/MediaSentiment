{
 "cells": [
  {
   "cell_type": "code",
   "execution_count": 1,
   "metadata": {},
   "outputs": [
    {
     "name": "stderr",
     "output_type": "stream",
     "text": [
      "[nltk_data] Downloading package stopwords to\n",
      "[nltk_data]     C:\\Users\\zchao\\AppData\\Roaming\\nltk_data...\n",
      "[nltk_data]   Package stopwords is already up-to-date!\n"
     ]
    },
    {
     "data": {
      "text/html": [
       "<div>\n",
       "<style scoped>\n",
       "    .dataframe tbody tr th:only-of-type {\n",
       "        vertical-align: middle;\n",
       "    }\n",
       "\n",
       "    .dataframe tbody tr th {\n",
       "        vertical-align: top;\n",
       "    }\n",
       "\n",
       "    .dataframe thead th {\n",
       "        text-align: right;\n",
       "    }\n",
       "</style>\n",
       "<table border=\"1\" class=\"dataframe\">\n",
       "  <thead>\n",
       "    <tr style=\"text-align: right;\">\n",
       "      <th></th>\n",
       "      <th>Source</th>\n",
       "      <th>Bias</th>\n",
       "      <th>Quality</th>\n",
       "    </tr>\n",
       "  </thead>\n",
       "  <tbody>\n",
       "    <tr>\n",
       "      <th>0</th>\n",
       "      <td>ABC</td>\n",
       "      <td>-1.846000</td>\n",
       "      <td>49.866500</td>\n",
       "    </tr>\n",
       "    <tr>\n",
       "      <th>1</th>\n",
       "      <td>AP</td>\n",
       "      <td>-1.063261</td>\n",
       "      <td>52.189130</td>\n",
       "    </tr>\n",
       "    <tr>\n",
       "      <th>2</th>\n",
       "      <td>axios</td>\n",
       "      <td>-5.737857</td>\n",
       "      <td>47.303571</td>\n",
       "    </tr>\n",
       "    <tr>\n",
       "      <th>3</th>\n",
       "      <td>BBC</td>\n",
       "      <td>-3.033333</td>\n",
       "      <td>46.266667</td>\n",
       "    </tr>\n",
       "    <tr>\n",
       "      <th>4</th>\n",
       "      <td>Bloomberg</td>\n",
       "      <td>-0.850345</td>\n",
       "      <td>47.522759</td>\n",
       "    </tr>\n",
       "    <tr>\n",
       "      <th>...</th>\n",
       "      <td>...</td>\n",
       "      <td>...</td>\n",
       "      <td>...</td>\n",
       "    </tr>\n",
       "    <tr>\n",
       "      <th>60</th>\n",
       "      <td>dcexaminer</td>\n",
       "      <td>12.166250</td>\n",
       "      <td>35.485000</td>\n",
       "    </tr>\n",
       "    <tr>\n",
       "      <th>61</th>\n",
       "      <td>FreeBeacon</td>\n",
       "      <td>16.708125</td>\n",
       "      <td>36.187500</td>\n",
       "    </tr>\n",
       "    <tr>\n",
       "      <th>62</th>\n",
       "      <td>washingtonpost</td>\n",
       "      <td>-4.179888</td>\n",
       "      <td>44.567303</td>\n",
       "    </tr>\n",
       "    <tr>\n",
       "      <th>63</th>\n",
       "      <td>WashTimes</td>\n",
       "      <td>12.966667</td>\n",
       "      <td>37.228000</td>\n",
       "    </tr>\n",
       "    <tr>\n",
       "      <th>64</th>\n",
       "      <td>weatherchannel</td>\n",
       "      <td>-2.434000</td>\n",
       "      <td>51.300000</td>\n",
       "    </tr>\n",
       "  </tbody>\n",
       "</table>\n",
       "<p>65 rows × 3 columns</p>\n",
       "</div>"
      ],
      "text/plain": [
       "            Source       Bias    Quality\n",
       "0              ABC  -1.846000  49.866500\n",
       "1               AP  -1.063261  52.189130\n",
       "2            axios  -5.737857  47.303571\n",
       "3              BBC  -3.033333  46.266667\n",
       "4        Bloomberg  -0.850345  47.522759\n",
       "..             ...        ...        ...\n",
       "60      dcexaminer  12.166250  35.485000\n",
       "61      FreeBeacon  16.708125  36.187500\n",
       "62  washingtonpost  -4.179888  44.567303\n",
       "63       WashTimes  12.966667  37.228000\n",
       "64  weatherchannel  -2.434000  51.300000\n",
       "\n",
       "[65 rows x 3 columns]"
      ]
     },
     "execution_count": 1,
     "metadata": {},
     "output_type": "execute_result"
    }
   ],
   "source": [
    "import pandas as pd\n",
    "import csv\n",
    "import matplotlib.pyplot as plt\n",
    "import numpy as np\n",
    "import importlib\n",
    "import nltk\n",
    "from nltk.corpus import stopwords\n",
    "nltk.download('stopwords')\n",
    "import CleanData, SaveState\n",
    "from CleanData import clean_comment, get_bag_of_words\n",
    "\n",
    "\n",
    "# Load all article reviews from MediaBiasChart V5.0:\n",
    "media_bias = pd.read_csv('../data/MediaBiasChart.csv')\n",
    "media_bias = media_bias.groupby('Source').mean()\n",
    "media_bias.reset_index(level=0, inplace=True)\n",
    "\n",
    "MediaBiasChart_to_Tweet = {'ABC':'ABC','AP':'AP','Axios':'axios','CNN':'CNN','Wall Street Journal':'WSJ',\\\n",
    "    'The Atlantic':'TheAtlantic','The Hill':'thehill', 'BBC':'BBC', 'Think Progress':'thinkprogress',\\\n",
    "    'MSNBC':'MSNBC','The Nation':'thenation','Daily Beast':'thedailybeast','Mother Jones':'MotherJones',\\\n",
    "    'CNSNews':'cnsnews','Fox News':'FoxNews', 'The Federalist':'FDRLST','Breitbart':'BreitbartNews',\\\n",
    "    'Daily Caller':'DailyCaller','The Blaze':'theblaze','Business Insider':'businessinsider',\\\n",
    "    'CBS':'CBSNews','The Economist':'TheEconomist','BuzzFeed':'BuzzFeed','Daily Signal':'DailySignal',\\\n",
    "    'New Republic':'newrepublic','Foreign Policy':'ForeignPolicy','IJR':'TheIJR','National Review':'NRO',\\\n",
    "    'National Public Radio':'NPR','New York Post':'nypost','New York Times':'nytimes','The New Yorker':'NewYorker',\\\n",
    "    'NewsMax':'newsmax','One America News Network':'OANN','Politico':'politico','Quartz':'qz',\\\n",
    "    'Reason':'reason','Reuters':'Reuters','Slate':'Slate','Talking Points Memo':'TPM','Vanity Fair':'VanityFair',\\\n",
    "    'Vox':'voxdotcom','Washington Examiner':'dcexaminer','Washington Free Beacon':'FreeBeacon',\\\n",
    "    'Washington Post':'washingtonpost','Washington Times':'WashTimes','The Week':'TheWeek','Bloomberg':'Bloomberg',\\\n",
    "    'Christian Science Monitor':'csmonitor', 'Democracy Now':'democracynow','Financial Times':'FT',\\\n",
    "    'Fiscal Times':'TheFiscalTimes','Forbes':'Forbes','Fortune':'FortuneMagazine','Forward':'jdforward',\\\n",
    "    'FreeSpeech TV':'freespeechtv','Huffington Post':'HuffPost','LA Times':'latimes','Marketwatch':'MarketWatch',\\\n",
    "    'OZY':'ozy','PBS':'PBS','ProPublica':'propublica','Time':'TIME','USA Today':'USATODAY',\\\n",
    "    'Weather.com':'weatherchannel'}\n",
    "\n",
    "media_bias['Source'] = media_bias.Source.map(MediaBiasChart_to_Tweet)\n",
    "media_bias = media_bias.dropna()\n",
    "media_bias.reset_index(drop=True)"
   ]
  },
  {
   "cell_type": "code",
   "execution_count": 2,
   "metadata": {},
   "outputs": [],
   "source": [
    "media_bias.to_csv('../data/Media_coordinate.csv',index=False)"
   ]
  },
  {
   "cell_type": "code",
   "execution_count": 3,
   "metadata": {},
   "outputs": [],
   "source": [
    "# df1 = pd.read_csv('../data/filtered_part1.csv', skiprows=1)\n",
    "# df2 = pd.read_csv('../data/filtered_part2.csv')\n",
    "# df3 = pd.read_csv('../data/filtered_part3.csv')\n",
    "# df4 = pd.read_csv('../data/filtered_part4.csv',lineterminator='\\n')\n",
    "# df6 = pd.read_csv('../data/filtered_part6.csv')\n",
    "# df7 = pd.read_csv('../data/filtered_part7.csv')\n",
    "# df8 = pd.read_csv('../data/filtered_part8.csv')\n",
    "# df = pd.concat([df1, df2, df3, df4, df6, df7, df8], sort = False)\n",
    "\n",
    "# all_media = media_bias['Source'].tolist()\n",
    "# df = df.loc[df['user_screen_name'].isin(all_media)]\n",
    "# df = df.drop(columns=['hashtags','created_at'])\n",
    "# print(df.shape)\n",
    "\n",
    "# df.to_csv('../data/filtered_all.csv',index=False)\n",
    "\n",
    "# tweet_count = df.groupby(by=[\"user_screen_name\"]).count()\n",
    "# tweet_count['text'].nsmallest(10)\n",
    "\n",
    "# df_1000 = df.groupby('user_screen_name').head(1000).reset_index(drop=True)\n",
    "# df_1000.to_csv('../data/media_1k_per.csv',index=False)"
   ]
  },
  {
   "cell_type": "code",
   "execution_count": 4,
   "metadata": {},
   "outputs": [],
   "source": [
    "# df2 = pd.read_csv('../data/filtered_all.csv')\n",
    "df2 = pd.read_csv('../data/media_1k_per.csv')\n",
    "coor = pd.read_csv('../data/Media_coordinate.csv')\n",
    "def assign_coor(df, coor):\n",
    "    media2bias = dict(zip(coor.Source, coor.Bias))\n",
    "    df['bias'] = df['user_screen_name'].map(media2bias)\n",
    "    df['bias'] = df['bias']/df['bias'].abs().max()\n",
    "    media2qual = dict(zip(coor.Source, coor.Quality))\n",
    "    df['quality'] = df['user_screen_name'].map(media2qual)\n",
    "    df['quality'] = df['quality'] - df['quality'].abs().min()\n",
    "    df['quality'] = df['quality']/df['quality'].abs().max()\n",
    "    df = df.sample(frac=1,replace=True).reset_index(drop=True)\n",
    "    return df\n",
    "    \n",
    "df = assign_coor(df2, coor)"
   ]
  },
  {
   "cell_type": "code",
   "execution_count": 5,
   "metadata": {},
   "outputs": [
    {
     "data": {
      "text/plain": [
       "Text(0, 0.5, 'Number of tweets collected')"
      ]
     },
     "execution_count": 5,
     "metadata": {},
     "output_type": "execute_result"
    },
    {
     "data": {
      "image/png": "[encoded data removed]",
      "text/plain": [
       "<Figure size 720x432 with 1 Axes>"
      ]
     },
     "metadata": {
      "needs_background": "light"
     },
     "output_type": "display_data"
    }
   ],
   "source": [
    "temp =media_bias.reset_index(drop=True)\n",
    "ct = df.groupby('user_screen_name').count()\n",
    "ct = ct.sort_values(by=['text'])\n",
    "ax = ct.plot(y='text', kind='bar', xticks=[0,1], legend = False, rot=0, figsize=(10, 6))\n",
    "ax.set_xticks([0,16,32,48,64])\n",
    "ax.set_xticklabels(ct.index[0:65:16])\n",
    "ax.set_xlabel(\"Media\", fontsize = 14)\n",
    "ax.set_ylabel(\"Number of tweets collected\",  fontsize = 14)"
   ]
  },
  {
   "cell_type": "code",
   "execution_count": 6,
   "metadata": {},
   "outputs": [
    {
     "name": "stdout",
     "output_type": "stream",
     "text": [
      "\\begin{tabular}{lrrr}\n",
      "\\toprule\n",
      "{} &   Bias &  Quality &  text \\\\\n",
      "Source          &        &          &       \\\\\n",
      "\\midrule\n",
      "ABC             &  -1.85 &    49.87 &  1041 \\\\\n",
      "AP              &  -1.06 &    52.19 &  1029 \\\\\n",
      "axios           &  -5.74 &    47.30 &   982 \\\\\n",
      "BBC             &  -3.03 &    46.27 &  1005 \\\\\n",
      "Bloomberg       &  -0.85 &    47.52 &   115 \\\\\n",
      "BreitbartNews   &  18.99 &    30.64 &   985 \\\\\n",
      "businessinsider &  -0.38 &    43.28 &   984 \\\\\n",
      "BuzzFeed        &  -7.06 &    43.17 &  1087 \\\\\n",
      "CBSNews         &  -1.85 &    46.84 &   938 \\\\\n",
      "CNN             &  -8.55 &    40.49 &  1012 \\\\\n",
      "cnsnews         &  25.75 &    27.75 &  1023 \\\\\n",
      "csmonitor       &  -0.21 &    44.27 &   992 \\\\\n",
      "thedailybeast   & -12.04 &    38.80 &  1055 \\\\\n",
      "DailyCaller     &  20.06 &    28.80 &   996 \\\\\n",
      "DailySignal     &  19.97 &    30.41 &   997 \\\\\n",
      "democracynow    & -16.71 &    37.54 &   974 \\\\\n",
      "FT              &   0.62 &    47.47 &   935 \\\\\n",
      "TheFiscalTimes  &   1.52 &    44.54 &   984 \\\\\n",
      "Forbes          &   0.20 &    39.84 &  1034 \\\\\n",
      "ForeignPolicy   &  -1.65 &    41.69 &  1006 \\\\\n",
      "FortuneMagazine &   0.43 &    45.09 &   975 \\\\\n",
      "jdforward       &  -5.69 &    37.12 &   975 \\\\\n",
      "FoxNews         &  18.50 &    30.08 &   981 \\\\\n",
      "freespeechtv    & -18.74 &    29.95 &   988 \\\\\n",
      "HuffPost        & -11.64 &    40.17 &   942 \\\\\n",
      "TheIJR          &   6.72 &    44.31 &   989 \\\\\n",
      "latimes         &  -3.06 &    49.09 &  1025 \\\\\n",
      "MSNBC           & -10.88 &    41.21 &  1048 \\\\\n",
      "MarketWatch     &  -0.54 &    45.11 &  1061 \\\\\n",
      "MotherJones     & -13.92 &    40.32 &   959 \\\\\n",
      "NPR             &  -2.73 &    50.22 &  1010 \\\\\n",
      "NRO             &  16.23 &    30.95 &   986 \\\\\n",
      "newrepublic     & -12.83 &    36.03 &   995 \\\\\n",
      "nypost          &   5.15 &    42.42 &  1039 \\\\\n",
      "nytimes         &  -4.01 &    47.54 &  1014 \\\\\n",
      "newsmax         &   9.94 &    36.02 &   985 \\\\\n",
      "ozy             &  -5.43 &    40.80 &   981 \\\\\n",
      "OANN            &  11.26 &    35.88 &  1013 \\\\\n",
      "PBS             &  -2.37 &    47.79 &  1016 \\\\\n",
      "politico        &  -5.24 &    46.45 &   948 \\\\\n",
      "propublica      &  -5.93 &    48.14 &  1055 \\\\\n",
      "qz              &  -3.89 &    41.26 &   975 \\\\\n",
      "reason          &   4.12 &    38.28 &  1024 \\\\\n",
      "Reuters         &  -0.95 &    51.79 &  1025 \\\\\n",
      "Slate           & -14.93 &    34.20 &   993 \\\\\n",
      "TPM             &  -5.67 &    42.24 &   924 \\\\\n",
      "TheAtlantic     &  -6.41 &    40.59 &   989 \\\\\n",
      "theblaze        &  15.70 &    32.76 &   956 \\\\\n",
      "TheEconomist    &  -2.43 &    42.19 &   995 \\\\\n",
      "FDRLST          &  21.86 &    26.42 &  1052 \\\\\n",
      "thehill         &   0.09 &    46.26 &   984 \\\\\n",
      "thenation       & -16.89 &    33.54 &  1024 \\\\\n",
      "NewYorker       &  -6.90 &    41.83 &   990 \\\\\n",
      "TheWeek         &  -8.31 &    33.98 &  1052 \\\\\n",
      "thinkprogress   & -19.12 &    35.85 &  1029 \\\\\n",
      "TIME            &  -4.35 &    42.50 &   961 \\\\\n",
      "USATODAY        &  -2.03 &    46.12 &  1035 \\\\\n",
      "VanityFair      & -14.75 &    35.22 &   961 \\\\\n",
      "voxdotcom       &  -8.75 &    42.33 &  1059 \\\\\n",
      "WSJ             &   1.89 &    48.52 &  1040 \\\\\n",
      "dcexaminer      &  12.17 &    35.48 &   985 \\\\\n",
      "FreeBeacon      &  16.71 &    36.19 &   970 \\\\\n",
      "washingtonpost  &  -4.18 &    44.57 &  1032 \\\\\n",
      "WashTimes       &  12.97 &    37.23 &   941 \\\\\n",
      "weatherchannel  &  -2.43 &    51.30 &   972 \\\\\n",
      "\\bottomrule\n",
      "\\end{tabular}\n",
      "\n"
     ]
    }
   ],
   "source": [
    "table = temp.set_index('Source').join(ct)\n",
    "table = table.drop(columns = ['bias', 'quality'])\n",
    "table.rename(columns={\"text\": \"Tweet Count\"})\n",
    "print(table.to_latex(float_format=\"%.2f\") ) "
   ]
  },
  {
   "cell_type": "code",
   "execution_count": 7,
   "metadata": {},
   "outputs": [
    {
     "data": {
      "text/plain": [
       "(64127, 6935)"
      ]
     },
     "execution_count": 7,
     "metadata": {},
     "output_type": "execute_result"
    }
   ],
   "source": [
    "# Some interesting tweets: \"House Republicans: Maybe Trump actually toxic\"\n",
    "stop_words = stopwords.words('english')\n",
    "number_strs = ['one', 'two', 'three', 'four', 'five', 'six', 'seven','eight', 'nine', 'ten']\n",
    "stop_words.extend(number_strs)\n",
    "clean_c = lambda x: clean_comment(x)\n",
    "X = list(map(clean_c, df.text))\n",
    "\n",
    "from sklearn.feature_extraction.text import CountVectorizer\n",
    "from sklearn.feature_extraction.text import TfidfTransformer\n",
    "vectorizer = CountVectorizer(min_df = 0.0002)\n",
    "bag_of_words = vectorizer.fit_transform(X)\n",
    "bag_of_words.shape"
   ]
  },
  {
   "cell_type": "code",
   "execution_count": 42,
   "metadata": {},
   "outputs": [
    {
     "name": "stderr",
     "output_type": "stream",
     "text": [
      "C:\\Users\\zchao\\anaconda3\\lib\\site-packages\\sklearn\\svm\\_base.py:947: ConvergenceWarning: Liblinear failed to converge, increase the number of iterations.\n",
      "  \"the number of iterations.\", ConvergenceWarning)\n",
      "C:\\Users\\zchao\\anaconda3\\lib\\site-packages\\sklearn\\svm\\_base.py:947: ConvergenceWarning: Liblinear failed to converge, increase the number of iterations.\n",
      "  \"the number of iterations.\", ConvergenceWarning)\n"
     ]
    },
    {
     "data": {
      "text/plain": [
       "(0.9122686369802118, 0.9200201406103046)"
      ]
     },
     "execution_count": 42,
     "metadata": {},
     "output_type": "execute_result"
    }
   ],
   "source": [
    "from sklearn.model_selection import train_test_split\n",
    "from sklearn.svm import LinearSVR\n",
    "from sklearn.pipeline import make_pipeline\n",
    "from sklearn.preprocessing import StandardScaler\n",
    "X_train, X_test, yb_train, yb_test = train_test_split(bag_of_words, df.bias, test_size=0.8,shuffle=False)\n",
    "regr1 = make_pipeline(StandardScaler(with_mean=False), LinearSVR(random_state=0, tol=1e-4,max_iter=1000))\n",
    "regr1.fit(X_train, yb_train)\n",
    "bias_pred = regr1.predict(X_test)\n",
    "\n",
    "X_train, X_test, yq_train, yq_test = train_test_split(bag_of_words, df.quality, test_size=0.8,shuffle=False)\n",
    "regr2 = make_pipeline(StandardScaler(with_mean=False), LinearSVR(random_state=0, tol=1e-4,max_iter=1000))\n",
    "regr2.fit(X_train, yq_train)\n",
    "qual_pred = regr2.predict(X_test)\n",
    "\n",
    "import scipy\n",
    "df_test = df.tail(X_test.shape[0]).copy()\n",
    "df_test['bias_pred'] = bias_pred\n",
    "df_test['qual_pred'] = qual_pred\n",
    "df_gb = df_test.groupby(['user_screen_name'])\n",
    "corr_bias = scipy.stats.pearsonr(df_gb.bias_pred.mean().tolist(), df_gb.bias.mean().tolist())[0]\n",
    "corr_quality = scipy.stats.pearsonr(df_gb.qual_pred.mean().tolist(), df_gb.quality.mean().tolist())[0]\n",
    "(corr_bias,corr_quality)"
   ]
  },
  {
   "cell_type": "code",
   "execution_count": 43,
   "metadata": {},
   "outputs": [
    {
     "name": "stdout",
     "output_type": "stream",
     "text": [
      "0.9549296039972578 0.9343518009473037\n"
     ]
    }
   ],
   "source": [
    "from sklearn.neural_network import MLPRegressor\n",
    "regr1 = MLPRegressor(hidden_layer_sizes=10, shuffle=False, random_state=1).fit(X_train, yb_train)\n",
    "bias_pred = regr1.predict(X_test)\n",
    "\n",
    "regr2 = MLPRegressor(hidden_layer_sizes=10, shuffle=False, random_state=1).fit(X_train, yq_train)\n",
    "qual_pred = regr2.predict(X_test)\n",
    "\n",
    "df_test = df.tail(X_test.shape[0]).copy()\n",
    "df_test['bias_pred'] = bias_pred\n",
    "df_test['qual_pred'] = qual_pred\n",
    "# df_gb = df_test.groupby(['user_screen_name'])\n",
    "# corr_bias = scipy.stats.pearsonr(df_gb.bias_pred.mean().tolist(), df_gb.bias.mean().tolist())[0]\n",
    "# corr_quality = scipy.stats.pearsonr(df_gb.qual_pred.mean().tolist(), df_gb.quality.mean().tolist())[0]\n",
    "# (corr_bias,corr_quality)\n",
    "average_bias = df_test.groupby(['user_screen_name']).bias_pred.mean()\n",
    "average_qual = df_test.groupby(['user_screen_name']).qual_pred.mean()\n",
    "bias = df_test.groupby(['user_screen_name']).bias.mean()\n",
    "quality = df_test.groupby(['user_screen_name']).quality.mean()\n",
    "\n",
    "corr_bias = scipy.stats.pearsonr(average_bias.tolist(), bias.tolist())[0]\n",
    "corr_quality = scipy.stats.pearsonr(average_qual.tolist(), quality.tolist())[0]\n",
    "\n",
    "print(corr_bias, corr_quality)"
   ]
  },
  {
   "cell_type": "code",
   "execution_count": 39,
   "metadata": {},
   "outputs": [
    {
     "data": {
      "text/plain": [
       "(0.881902854537286, 0.8689521273376068)"
      ]
     },
     "execution_count": 39,
     "metadata": {},
     "output_type": "execute_result"
    }
   ],
   "source": [
    "from sklearn.tree import DecisionTreeRegressor\n",
    "regr1 = DecisionTreeRegressor(random_state=1, max_depth = 100).fit(X_train, yb_train)\n",
    "bias_pred = regr1.predict(X_test)\n",
    "\n",
    "regr2 = DecisionTreeRegressor(random_state=1, max_depth = 100).fit(X_train, yq_train)\n",
    "qual_pred = regr2.predict(X_test)\n",
    "\n",
    "df_test = df.tail(X_test.shape[0]).copy()\n",
    "df_test['bias_pred'] = bias_pred\n",
    "df_test['qual_pred'] = qual_pred\n",
    "df_gb = df_test.groupby(['user_screen_name'])\n",
    "\n",
    "corr_bias = scipy.stats.pearsonr(df_gb.bias_pred.mean().tolist(), df_gb.bias.mean().tolist())[0]\n",
    "corr_quality = scipy.stats.pearsonr(df_gb.qual_pred.mean().tolist(), df_gb.quality.mean().tolist())[0]\n",
    "(corr_bias,corr_quality)"
   ]
  },
  {
   "cell_type": "code",
   "execution_count": 40,
   "metadata": {},
   "outputs": [
    {
     "data": {
      "text/plain": [
       "(0.922434275097791, 0.9035343866513003)"
      ]
     },
     "execution_count": 40,
     "metadata": {},
     "output_type": "execute_result"
    }
   ],
   "source": [
    "from sklearn.ensemble import RandomForestRegressor\n",
    "regr1 = RandomForestRegressor(n_estimators=10).fit(X_train, yb_train)\n",
    "bias_pred = regr1.predict(X_test)\n",
    "\n",
    "regr2 = RandomForestRegressor(n_estimators=10).fit(X_train, yq_train)\n",
    "qual_pred = regr2.predict(X_test)\n",
    "\n",
    "df_test = df.tail(X_test.shape[0]).copy()\n",
    "df_test['bias_pred'] = bias_pred\n",
    "df_test['qual_pred'] = qual_pred\n",
    "df_gb = df_test.groupby(['user_screen_name'])\n",
    "\n",
    "corr_bias = scipy.stats.pearsonr(df_gb.bias_pred.mean().tolist(), df_gb.bias.mean().tolist())[0]\n",
    "corr_quality = scipy.stats.pearsonr(df_gb.qual_pred.mean().tolist(), df_gb.quality.mean().tolist())[0]\n",
    "(corr_bias,corr_quality)"
   ]
  },
  {
   "cell_type": "code",
   "execution_count": 12,
   "metadata": {},
   "outputs": [
    {
     "name": "stderr",
     "output_type": "stream",
     "text": [
      "C:\\Users\\zchao\\anaconda3\\lib\\site-packages\\sklearn\\svm\\_base.py:947: ConvergenceWarning: Liblinear failed to converge, increase the number of iterations.\n",
      "  \"the number of iterations.\", ConvergenceWarning)\n",
      "C:\\Users\\zchao\\anaconda3\\lib\\site-packages\\sklearn\\svm\\_base.py:947: ConvergenceWarning: Liblinear failed to converge, increase the number of iterations.\n",
      "  \"the number of iterations.\", ConvergenceWarning)\n",
      "C:\\Users\\zchao\\anaconda3\\lib\\site-packages\\ipykernel_launcher.py:13: SettingWithCopyWarning: \n",
      "A value is trying to be set on a copy of a slice from a DataFrame.\n",
      "Try using .loc[row_indexer,col_indexer] = value instead\n",
      "\n",
      "See the caveats in the documentation: https://pandas.pydata.org/pandas-docs/stable/user_guide/indexing.html#returning-a-view-versus-a-copy\n",
      "  del sys.path[0]\n",
      "C:\\Users\\zchao\\anaconda3\\lib\\site-packages\\ipykernel_launcher.py:14: SettingWithCopyWarning: \n",
      "A value is trying to be set on a copy of a slice from a DataFrame.\n",
      "Try using .loc[row_indexer,col_indexer] = value instead\n",
      "\n",
      "See the caveats in the documentation: https://pandas.pydata.org/pandas-docs/stable/user_guide/indexing.html#returning-a-view-versus-a-copy\n",
      "  \n"
     ]
    },
    {
     "data": {
      "text/plain": [
       "(0.8888102932213924, 0.8935206974959833)"
      ]
     },
     "execution_count": 12,
     "metadata": {},
     "output_type": "execute_result"
    }
   ],
   "source": []
  },
  {
   "cell_type": "code",
   "execution_count": null,
   "metadata": {},
   "outputs": [],
   "source": []
  }
 ],
 "metadata": {
  "kernelspec": {
   "display_name": "Python 3",
   "language": "python",
   "name": "python3"
  },
  "language_info": {
   "codemirror_mode": {
    "name": "ipython",
    "version": 3
   },
   "file_extension": ".py",
   "mimetype": "text/x-python",
   "name": "python",
   "nbconvert_exporter": "python",
   "pygments_lexer": "ipython3",
   "version": "3.7.6"
  }
 },
 "nbformat": 4,
 "nbformat_minor": 4
}
