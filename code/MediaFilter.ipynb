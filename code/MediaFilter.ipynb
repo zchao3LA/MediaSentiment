{
 "cells": [
  {
   "cell_type": "code",
   "execution_count": 34,
   "metadata": {},
   "outputs": [
    {
     "name": "stderr",
     "output_type": "stream",
     "text": [
      "[nltk_data] Downloading package stopwords to C:\\Users\\Zehan\n",
      "[nltk_data]     Chao\\AppData\\Roaming\\nltk_data...\n",
      "[nltk_data]   Package stopwords is already up-to-date!\n"
     ]
    }
   ],
   "source": [
    "import numpy as np\n",
    "import pandas as pd\n",
    "import nltk\n",
    "import matplotlib.pyplot as plt\n",
    "import seaborn as sns\n",
    "sns.set(font_scale=1.5)\n",
    "from nltk.corpus import stopwords\n",
    "nltk.download('stopwords')\n",
    "from CleanData import clean_comment, get_bag_of_words\n",
    "import datetime\n",
    "\n",
    "pd.set_option('display.max_columns', None)\n",
    "pd.set_option('display.max_seq_items', None)\n",
    "pd.set_option('display.max_rows', None)\n",
    "pd.set_option('display.max_colwidth', -1)"
   ]
  },
  {
   "cell_type": "code",
   "execution_count": 24,
   "metadata": {},
   "outputs": [
    {
     "data": {
      "text/html": [
       "<div>\n",
       "<style scoped>\n",
       "    .dataframe tbody tr th:only-of-type {\n",
       "        vertical-align: middle;\n",
       "    }\n",
       "\n",
       "    .dataframe tbody tr th {\n",
       "        vertical-align: top;\n",
       "    }\n",
       "\n",
       "    .dataframe thead th {\n",
       "        text-align: right;\n",
       "    }\n",
       "</style>\n",
       "<table border=\"1\" class=\"dataframe\">\n",
       "  <thead>\n",
       "    <tr style=\"text-align: right;\">\n",
       "      <th></th>\n",
       "      <th>Source</th>\n",
       "      <th>Bias</th>\n",
       "      <th>Quality</th>\n",
       "    </tr>\n",
       "  </thead>\n",
       "  <tbody>\n",
       "    <tr>\n",
       "      <td>0</td>\n",
       "      <td>ABC</td>\n",
       "      <td>-1.846000</td>\n",
       "      <td>49.866500</td>\n",
       "    </tr>\n",
       "    <tr>\n",
       "      <td>1</td>\n",
       "      <td>AP</td>\n",
       "      <td>-1.063261</td>\n",
       "      <td>52.189130</td>\n",
       "    </tr>\n",
       "    <tr>\n",
       "      <td>2</td>\n",
       "      <td>Al Jazeera</td>\n",
       "      <td>-3.705333</td>\n",
       "      <td>46.700000</td>\n",
       "    </tr>\n",
       "    <tr>\n",
       "      <td>3</td>\n",
       "      <td>Alternet</td>\n",
       "      <td>-19.156250</td>\n",
       "      <td>26.385000</td>\n",
       "    </tr>\n",
       "    <tr>\n",
       "      <td>4</td>\n",
       "      <td>American Spectator, The</td>\n",
       "      <td>21.767778</td>\n",
       "      <td>23.481111</td>\n",
       "    </tr>\n",
       "    <tr>\n",
       "      <td>...</td>\n",
       "      <td>...</td>\n",
       "      <td>...</td>\n",
       "      <td>...</td>\n",
       "    </tr>\n",
       "    <tr>\n",
       "      <td>103</td>\n",
       "      <td>Washington Times</td>\n",
       "      <td>12.966667</td>\n",
       "      <td>37.228000</td>\n",
       "    </tr>\n",
       "    <tr>\n",
       "      <td>104</td>\n",
       "      <td>Weather.com</td>\n",
       "      <td>-2.434000</td>\n",
       "      <td>51.300000</td>\n",
       "    </tr>\n",
       "    <tr>\n",
       "      <td>105</td>\n",
       "      <td>Wonkette</td>\n",
       "      <td>-27.716154</td>\n",
       "      <td>17.336923</td>\n",
       "    </tr>\n",
       "    <tr>\n",
       "      <td>106</td>\n",
       "      <td>World Truth TV</td>\n",
       "      <td>8.480769</td>\n",
       "      <td>15.262308</td>\n",
       "    </tr>\n",
       "    <tr>\n",
       "      <td>107</td>\n",
       "      <td>WorldNetDaily</td>\n",
       "      <td>18.320000</td>\n",
       "      <td>24.924000</td>\n",
       "    </tr>\n",
       "  </tbody>\n",
       "</table>\n",
       "<p>108 rows × 3 columns</p>\n",
       "</div>"
      ],
      "text/plain": [
       "                      Source       Bias    Quality\n",
       "0                        ABC  -1.846000  49.866500\n",
       "1                         AP  -1.063261  52.189130\n",
       "2                 Al Jazeera  -3.705333  46.700000\n",
       "3                   Alternet -19.156250  26.385000\n",
       "4    American Spectator, The  21.767778  23.481111\n",
       "..                       ...        ...        ...\n",
       "103         Washington Times  12.966667  37.228000\n",
       "104              Weather.com  -2.434000  51.300000\n",
       "105                 Wonkette -27.716154  17.336923\n",
       "106           World Truth TV   8.480769  15.262308\n",
       "107            WorldNetDaily  18.320000  24.924000\n",
       "\n",
       "[108 rows x 3 columns]"
      ]
     },
     "execution_count": 24,
     "metadata": {},
     "output_type": "execute_result"
    }
   ],
   "source": [
    "# Load all article reviews:\n",
    "media_bias = pd.read_csv('../data/MediaBiasChart.csv')\n",
    "media_bias = media_bias.groupby('Source').mean()\n",
    "media_bias.reset_index(level=0, inplace=True)\n",
    "media_bias"
   ]
  },
  {
   "cell_type": "code",
   "execution_count": 25,
   "metadata": {},
   "outputs": [
    {
     "data": {
      "text/plain": [
       "<matplotlib.collections.PathCollection at 0x19b887f8c08>"
      ]
     },
     "execution_count": 25,
     "metadata": {},
     "output_type": "execute_result"
    },
    {
     "data": {
      "image/png": "[encoded data removed]",
      "text/plain": [
       "<Figure size 432x288 with 1 Axes>"
      ]
     },
     "metadata": {},
     "output_type": "display_data"
    }
   ],
   "source": [
    "plt.scatter(media_bias['Bias'].to_numpy(),media_bias['Quality'].to_numpy())"
   ]
  },
  {
   "cell_type": "code",
   "execution_count": 26,
   "metadata": {},
   "outputs": [
    {
     "data": {
      "text/plain": [
       "0                 ABC\n",
       "1                  AP\n",
       "2                 NaN\n",
       "3                 NaN\n",
       "4                 NaN\n",
       "            ...      \n",
       "103         WashTimes\n",
       "104    weatherchannel\n",
       "105               NaN\n",
       "106               NaN\n",
       "107               NaN\n",
       "Name: Source, Length: 108, dtype: object"
      ]
     },
     "execution_count": 26,
     "metadata": {},
     "output_type": "execute_result"
    }
   ],
   "source": [
    "# A hand-make dictionary mapping each media in MediaBiasChart_to_Tweet to their twitter account name\n",
    "# The full list of media twitter account is from news_outlet_tweet_IDs\n",
    "# at https://dataverse.harvard.edu/dataset.xhtml?persistentId=doi:10.7910/DVN/2FIFLH\n",
    "\n",
    "MediaBiasChart_to_Tweet = {'ABC':'ABC','AP':'AP','Axios':'axios','CNN':'CNN','Wall Street Journal':'WSJ',\\\n",
    "    'The Atlantic':'TheAtlantic','The Hill':'thehill', 'BBC':'BBC', 'Think Progress':'thinkprogress',\\\n",
    "    'MSNBC':'MSNBC','The Nation':'thenation','Daily Beast':'thedailybeast','Mother Jones':'MotherJones',\\\n",
    "    'CNSNews':'cnsnews','Fox News':'FoxNews', 'The Federalist':'FDRLST','Breitbart':'BreitbartNews',\\\n",
    "    'Daily Caller':'DailyCaller','The Blaze':'theblaze','Business Insider':'businessinsider',\\\n",
    "    'CBS':'CBSNews','The Economist':'TheEconomist','BuzzFeed':'BuzzFeed','Daily Signal':'DailySignal',\\\n",
    "    'New Republic':'newrepublic','Foreign Policy':'ForeignPolicy','IJR':'TheIJR','National Review':'NRO',\\\n",
    "    'National Public Radio':'NPR','New York Post':'nypost','New York Times':'nytimes','The New Yorker':'NewYorker',\\\n",
    "    'NewsMax':'newsmax','One America News Network':'OANN','Politico':'politico','Quartz':'qz',\\\n",
    "    'Reason':'reason','Reuters':'Reuters','Slate':'Slate','Talking Points Memo':'TPM','Vanity Fair':'VanityFair',\\\n",
    "    'Vox':'voxdotcom','Washington Examiner':'dcexaminer','Washington Free Beacon':'FreeBeacon',\\\n",
    "    'Washington Post':'washingtonpost','Washington Times':'WashTimes','The Week':'TheWeek','Bloomberg':'Bloomberg',\\\n",
    "    'Christian Science Monitor':'csmonitor', 'Democracy Now':'democracynow','Financial Times':'FT',\\\n",
    "    'Fiscal Times':'TheFiscalTimes','Forbes':'Forbes','Fortune':'FortuneMagazine','Forward':'jdforward',\\\n",
    "    'FreeSpeech TV':'freespeechtv','Huffington Post':'HuffPost','LA Times':'latimes','Marketwatch':'MarketWatch',\\\n",
    "    'OZY':'ozy','PBS':'PBS','ProPublica':'ProPublica','Time':'TIME','USA Today':'USATODAY',\\\n",
    "    'Weather.com':'weatherchannel'}\n",
    "\n",
    "media_bias.Source.map(MediaBiasChart_to_Tweet)"
   ]
  },
  {
   "cell_type": "code",
   "execution_count": 27,
   "metadata": {},
   "outputs": [],
   "source": [
    "media_bias['twitter_name'] = media_bias.Source.map(MediaBiasChart_to_Tweet)\n",
    "media_bias = media_bias.dropna()\n",
    "media_bias.reset_index(drop=True)\n",
    "all_media = media_bias['twitter_name'].tolist()"
   ]
  },
  {
   "cell_type": "code",
   "execution_count": 28,
   "metadata": {},
   "outputs": [
    {
     "data": {
      "text/plain": [
       "['ABC',\n",
       " 'AP',\n",
       " 'axios',\n",
       " 'BBC',\n",
       " 'Bloomberg',\n",
       " 'BreitbartNews',\n",
       " 'businessinsider',\n",
       " 'BuzzFeed',\n",
       " 'CBSNews',\n",
       " 'CNN',\n",
       " 'cnsnews',\n",
       " 'csmonitor',\n",
       " 'thedailybeast',\n",
       " 'DailyCaller',\n",
       " 'DailySignal',\n",
       " 'democracynow',\n",
       " 'FT',\n",
       " 'TheFiscalTimes',\n",
       " 'Forbes',\n",
       " 'ForeignPolicy',\n",
       " 'FortuneMagazine',\n",
       " 'jdforward',\n",
       " 'FoxNews',\n",
       " 'freespeechtv',\n",
       " 'HuffPost',\n",
       " 'TheIJR',\n",
       " 'latimes',\n",
       " 'MSNBC',\n",
       " 'MarketWatch',\n",
       " 'MotherJones',\n",
       " 'NPR',\n",
       " 'NRO',\n",
       " 'newrepublic',\n",
       " 'nypost',\n",
       " 'nytimes',\n",
       " 'newsmax',\n",
       " 'ozy',\n",
       " 'OANN',\n",
       " 'PBS',\n",
       " 'politico',\n",
       " 'ProPublica',\n",
       " 'qz',\n",
       " 'reason',\n",
       " 'Reuters',\n",
       " 'Slate',\n",
       " 'TPM',\n",
       " 'TheAtlantic',\n",
       " 'theblaze',\n",
       " 'TheEconomist',\n",
       " 'FDRLST',\n",
       " 'thehill',\n",
       " 'thenation',\n",
       " 'NewYorker',\n",
       " 'TheWeek',\n",
       " 'thinkprogress',\n",
       " 'TIME',\n",
       " 'USATODAY',\n",
       " 'VanityFair',\n",
       " 'voxdotcom',\n",
       " 'WSJ',\n",
       " 'dcexaminer',\n",
       " 'FreeBeacon',\n",
       " 'washingtonpost',\n",
       " 'WashTimes',\n",
       " 'weatherchannel']"
      ]
     },
     "execution_count": 28,
     "metadata": {},
     "output_type": "execute_result"
    }
   ],
   "source": [
    "all_media"
   ]
  },
  {
   "cell_type": "code",
   "execution_count": null,
   "metadata": {},
   "outputs": [],
   "source": [
    "tweets_df = pd.read_csv('../data/news_outlets_part6.csv')\n",
    "tweets_df = tweets_df.loc[tweets_df['user_screen_name'].isin(all_media)]"
   ]
  },
  {
   "cell_type": "code",
   "execution_count": 36,
   "metadata": {},
   "outputs": [
    {
     "data": {
      "text/plain": [
       "(120514, 4)"
      ]
     },
     "execution_count": 36,
     "metadata": {},
     "output_type": "execute_result"
    }
   ],
   "source": [
    "tweets_df_filtered = tweets_df[['user_screen_name', 'text', 'created_at', 'hashtags']]\n",
    "tweets_df_filtered.shape"
   ]
  },
  {
   "cell_type": "code",
   "execution_count": 38,
   "metadata": {},
   "outputs": [],
   "source": [
    "tweets_df_filtered.to_csv('../data/filtered_part6.csv',index=False)"
   ]
  },
  {
   "cell_type": "code",
   "execution_count": 39,
   "metadata": {},
   "outputs": [
    {
     "data": {
      "text/html": [
       "<div>\n",
       "<style scoped>\n",
       "    .dataframe tbody tr th:only-of-type {\n",
       "        vertical-align: middle;\n",
       "    }\n",
       "\n",
       "    .dataframe tbody tr th {\n",
       "        vertical-align: top;\n",
       "    }\n",
       "\n",
       "    .dataframe thead th {\n",
       "        text-align: right;\n",
       "    }\n",
       "</style>\n",
       "<table border=\"1\" class=\"dataframe\">\n",
       "  <thead>\n",
       "    <tr style=\"text-align: right;\">\n",
       "      <th></th>\n",
       "      <th>user_screen_name</th>\n",
       "      <th>text</th>\n",
       "      <th>created_at</th>\n",
       "      <th>hashtags</th>\n",
       "    </tr>\n",
       "  </thead>\n",
       "  <tbody>\n",
       "    <tr>\n",
       "      <td>0</td>\n",
       "      <td>reason</td>\n",
       "      <td>Westworld Review: ‘Shogun World’ Is a Video Game, and Maeve Is Leveling Up https://t.co/m36XPa9p5y</td>\n",
       "      <td>Mon May 21 22:41:00 +0000 2018</td>\n",
       "      <td>NaN</td>\n",
       "    </tr>\n",
       "    <tr>\n",
       "      <td>1</td>\n",
       "      <td>reason</td>\n",
       "      <td>Over the next 30 years, Texas may overtake the Golden State because it is more welcoming to newcomers.\\n https://t.co/9FIOIswbxd</td>\n",
       "      <td>Mon May 21 23:33:00 +0000 2018</td>\n",
       "      <td>NaN</td>\n",
       "    </tr>\n",
       "    <tr>\n",
       "      <td>2</td>\n",
       "      <td>reason</td>\n",
       "      <td>Can't bust some guy for smoking a joint on the stairs. What's the world coming to?\\n https://t.co/jMiE3a0s8U</td>\n",
       "      <td>Tue May 22 00:26:00 +0000 2018</td>\n",
       "      <td>NaN</td>\n",
       "    </tr>\n",
       "    <tr>\n",
       "      <td>3</td>\n",
       "      <td>reason</td>\n",
       "      <td>Steven Pinker Loves the Enlightenment https://t.co/JTN0Zks05t</td>\n",
       "      <td>Mon May 21 22:18:00 +0000 2018</td>\n",
       "      <td>NaN</td>\n",
       "    </tr>\n",
       "    <tr>\n",
       "      <td>4</td>\n",
       "      <td>reason</td>\n",
       "      <td>More than 7 million Americans may have suspended licenses for unpaid traffic tickets and court fines. Critics say the practice traps the poor in a debt spiral https://t.co/Me2aj2YzRo</td>\n",
       "      <td>Mon May 21 19:54:30 +0000 2018</td>\n",
       "      <td>NaN</td>\n",
       "    </tr>\n",
       "  </tbody>\n",
       "</table>\n",
       "</div>"
      ],
      "text/plain": [
       "  user_screen_name  \\\n",
       "0  reason            \n",
       "1  reason            \n",
       "2  reason            \n",
       "3  reason            \n",
       "4  reason            \n",
       "\n",
       "                                                                                                                                                                                     text  \\\n",
       "0  Westworld Review: ‘Shogun World’ Is a Video Game, and Maeve Is Leveling Up https://t.co/m36XPa9p5y                                                                                       \n",
       "1  Over the next 30 years, Texas may overtake the Golden State because it is more welcoming to newcomers.\\n https://t.co/9FIOIswbxd                                                         \n",
       "2  Can't bust some guy for smoking a joint on the stairs. What's the world coming to?\\n https://t.co/jMiE3a0s8U                                                                             \n",
       "3  Steven Pinker Loves the Enlightenment https://t.co/JTN0Zks05t                                                                                                                            \n",
       "4  More than 7 million Americans may have suspended licenses for unpaid traffic tickets and court fines. Critics say the practice traps the poor in a debt spiral https://t.co/Me2aj2YzRo   \n",
       "\n",
       "                       created_at hashtags  \n",
       "0  Mon May 21 22:41:00 +0000 2018  NaN      \n",
       "1  Mon May 21 23:33:00 +0000 2018  NaN      \n",
       "2  Tue May 22 00:26:00 +0000 2018  NaN      \n",
       "3  Mon May 21 22:18:00 +0000 2018  NaN      \n",
       "4  Mon May 21 19:54:30 +0000 2018  NaN      "
      ]
     },
     "execution_count": 39,
     "metadata": {},
     "output_type": "execute_result"
    }
   ],
   "source": [
    "df = pd.read_csv('../data/filtered_part6.csv')\n",
    "df.head(5)"
   ]
  },
  {
   "cell_type": "code",
   "execution_count": null,
   "metadata": {},
   "outputs": [],
   "source": []
  }
 ],
 "metadata": {
  "kernelspec": {
   "display_name": "Python 3",
   "language": "python",
   "name": "python3"
  },
  "language_info": {
   "codemirror_mode": {
    "name": "ipython",
    "version": 3
   },
   "file_extension": ".py",
   "mimetype": "text/x-python",
   "name": "python",
   "nbconvert_exporter": "python",
   "pygments_lexer": "ipython3",
   "version": "3.7.4"
  }
 },
 "nbformat": 4,
 "nbformat_minor": 2
}
