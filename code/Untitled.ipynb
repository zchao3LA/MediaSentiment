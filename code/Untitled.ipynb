{
 "cells": [
  {
   "cell_type": "code",
   "execution_count": 2,
   "metadata": {},
   "outputs": [
    {
     "name": "stderr",
     "output_type": "stream",
     "text": [
      "[nltk_data] Downloading package stopwords to /home/zchao/nltk_data...\n",
      "[nltk_data]   Package stopwords is already up-to-date!\n",
      "/home/zchao/FlowPredict/env/lib/python3.6/site-packages/IPython/core/interactiveshell.py:3058: DtypeWarning: Columns (0) have mixed types. Specify dtype option on import or set low_memory=False.\n",
      "  interactivity=interactivity, compiler=compiler, result=result)\n"
     ]
    }
   ],
   "source": [
    "import numpy as np\n",
    "import pandas as pd\n",
    "import nltk\n",
    "import matplotlib.pyplot as plt\n",
    "import seaborn as sns\n",
    "sns.set(font_scale=1.5)\n",
    "from nltk.corpus import stopwords\n",
    "nltk.download('stopwords')\n",
    "from CleanData import clean_comment, get_bag_of_words\n",
    "import datetime\n",
    "tweets_df = pd.read_csv('../data/news_outlets_50K.csv')"
   ]
  },
  {
   "cell_type": "code",
   "execution_count": 22,
   "metadata": {
    "scrolled": false
   },
   "outputs": [
    {
     "data": {
      "text/plain": [
       "AFP                 190\n",
       "BREAKING            152\n",
       "EqualPayDay          71\n",
       "ROC                  60\n",
       "FidelCastro          56\n",
       "INDvENG              52\n",
       "MeToo                52\n",
       "nhk_news             47\n",
       "GarzónVive           41\n",
       "速報 九州 西日本新聞 ニュース     39\n",
       "TLFDelhi             38\n",
       "Syria                35\n",
       "ParaísoTravel        34\n",
       "abc15                34\n",
       "ColombiaRíe          33\n",
       "社会                   33\n",
       "Mundo                32\n",
       "Colombia             31\n",
       "ausbiz               30\n",
       "نصف_الدنيا           30\n",
       "Name: hashtags, dtype: int64"
      ]
     },
     "execution_count": 22,
     "metadata": {},
     "output_type": "execute_result"
    }
   ],
   "source": [
    "a = tweets_df['hashtags'].value_counts()\n",
    "a.head(20)"
   ]
  },
  {
   "cell_type": "code",
   "execution_count": 23,
   "metadata": {},
   "outputs": [
    {
     "data": {
      "text/plain": [
       "(51390, 34)"
      ]
     },
     "execution_count": 23,
     "metadata": {},
     "output_type": "execute_result"
    }
   ],
   "source": [
    "tweets_df.shape"
   ]
  },
  {
   "cell_type": "code",
   "execution_count": null,
   "metadata": {},
   "outputs": [],
   "source": []
  }
 ],
 "metadata": {
  "kernelspec": {
   "display_name": "Python 3",
   "language": "python",
   "name": "python3"
  },
  "language_info": {
   "codemirror_mode": {
    "name": "ipython",
    "version": 3
   },
   "file_extension": ".py",
   "mimetype": "text/x-python",
   "name": "python",
   "nbconvert_exporter": "python",
   "pygments_lexer": "ipython3",
   "version": "3.6.8"
  }
 },
 "nbformat": 4,
 "nbformat_minor": 2
}
