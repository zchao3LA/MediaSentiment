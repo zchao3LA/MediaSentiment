{
 "cells": [
  {
   "cell_type": "code",
   "execution_count": 1,
   "metadata": {},
   "outputs": [
    {
     "name": "stderr",
     "output_type": "stream",
     "text": [
      "[nltk_data] Downloading package stopwords to /home/zchao/nltk_data...\n",
      "[nltk_data]   Package stopwords is already up-to-date!\n"
     ]
    }
   ],
   "source": [
    "from congress import Congress\n",
    "api_key = 'fxzKX1XVwgCBfElNZlya7fwBVdEFNBlGEadiAFxD'\n",
    "congress_api = Congress(api_key)\n",
    "import pandas as pd\n",
    "from sklearn.decomposition import NMF\n",
    "from sklearn.feature_extraction.text import CountVectorizer\n",
    "pd.set_option('display.max_columns', None)\n",
    "pd.set_option('display.max_seq_items', None)\n",
    "pd.set_option('display.max_rows', None)\n",
    "pd.set_option('display.max_colwidth', -1)\n",
    "import csv\n",
    "import json\n",
    "import matplotlib.pyplot as plt\n",
    "plt.rcParams['figure.figsize'] = [10, 5]\n",
    "%matplotlib inline\n",
    "import seaborn as sns\n",
    "sns.set(font_scale=1.5)\n",
    "import numpy as np\n",
    "import importlib\n",
    "import nltk\n",
    "from nltk.corpus import stopwords\n",
    "nltk.download('stopwords')\n",
    "import CleanData, SaveState\n",
    "importlib.reload(CleanData)\n",
    "importlib.reload(SaveState)\n",
    "from CleanData import clean_comment, get_bag_of_words"
   ]
  },
  {
   "cell_type": "code",
   "execution_count": 2,
   "metadata": {},
   "outputs": [],
   "source": [
    "# Get stopword list\n",
    "stop_words = stopwords.words('english')\n",
    "number_strs = ['one', 'two', 'three', 'four', 'five', 'six', 'seven',\\\n",
    "'eight', 'nine', 'ten']\n",
    "stop_words.extend(number_strs)"
   ]
  },
  {
   "cell_type": "code",
   "execution_count": 3,
   "metadata": {},
   "outputs": [
    {
     "data": {
      "text/html": [
       "<div>\n",
       "<style scoped>\n",
       "    .dataframe tbody tr th:only-of-type {\n",
       "        vertical-align: middle;\n",
       "    }\n",
       "\n",
       "    .dataframe tbody tr th {\n",
       "        vertical-align: top;\n",
       "    }\n",
       "\n",
       "    .dataframe thead th {\n",
       "        text-align: right;\n",
       "    }\n",
       "</style>\n",
       "<table border=\"1\" class=\"dataframe\">\n",
       "  <thead>\n",
       "    <tr style=\"text-align: right;\">\n",
       "      <th></th>\n",
       "      <th>tweet_id</th>\n",
       "      <th>full_text</th>\n",
       "      <th>created_at</th>\n",
       "      <th>user_id</th>\n",
       "      <th>screen_name</th>\n",
       "      <th>user_name</th>\n",
       "      <th>hashtags</th>\n",
       "    </tr>\n",
       "  </thead>\n",
       "  <tbody>\n",
       "    <tr>\n",
       "      <td>0</td>\n",
       "      <td>940601256560783400</td>\n",
       "      <td>rt ashparso gdouglasjones i voted dougjones dougjonesforsenate</td>\n",
       "      <td>Tue Dec 12 15:16:29 +0000 2017</td>\n",
       "      <td>239548513</td>\n",
       "      <td>DougJones</td>\n",
       "      <td>Doug Jones</td>\n",
       "      <td>[]</td>\n",
       "    </tr>\n",
       "    <tr>\n",
       "      <td>1</td>\n",
       "      <td>940625117176041500</td>\n",
       "      <td>today let’s get everyone to vote  thank you joebiden</td>\n",
       "      <td>Tue Dec 12 16:51:18 +0000 2017</td>\n",
       "      <td>239548513</td>\n",
       "      <td>DougJones</td>\n",
       "      <td>Doug Jones</td>\n",
       "      <td>[]</td>\n",
       "    </tr>\n",
       "    <tr>\n",
       "      <td>2</td>\n",
       "      <td>939908592802648000</td>\n",
       "      <td>let us go to the polls to do our own work and remember that our life depends on it because it does  congresswoman sewell</td>\n",
       "      <td>Sun Dec 10 17:24:05 +0000 2017</td>\n",
       "      <td>239548513</td>\n",
       "      <td>DougJones</td>\n",
       "      <td>Doug Jones</td>\n",
       "      <td>[]</td>\n",
       "    </tr>\n",
       "    <tr>\n",
       "      <td>3</td>\n",
       "      <td>940583699728527400</td>\n",
       "      <td>today rightsideofhistory go vote</td>\n",
       "      <td>Tue Dec 12 14:06:43 +0000 2017</td>\n",
       "      <td>239548513</td>\n",
       "      <td>DougJones</td>\n",
       "      <td>Doug Jones</td>\n",
       "      <td>['RightSideOfHistory']</td>\n",
       "    </tr>\n",
       "    <tr>\n",
       "      <td>4</td>\n",
       "      <td>940606216786665500</td>\n",
       "      <td>rt aldotcom just in case you were wondering   alpolitics alsen</td>\n",
       "      <td>Tue Dec 12 15:36:12 +0000 2017</td>\n",
       "      <td>239548513</td>\n",
       "      <td>DougJones</td>\n",
       "      <td>Doug Jones</td>\n",
       "      <td>['alpolitics'; 'alsen']</td>\n",
       "    </tr>\n",
       "    <tr>\n",
       "      <td>5</td>\n",
       "      <td>941381292205269000</td>\n",
       "      <td>it was great to join don dailey on aptv to talk about the campaign and our plan to bring alabamians together</td>\n",
       "      <td>Thu Dec 14 18:56:04 +0000 2017</td>\n",
       "      <td>239548513</td>\n",
       "      <td>DougJones</td>\n",
       "      <td>Doug Jones</td>\n",
       "      <td>[]</td>\n",
       "    </tr>\n",
       "    <tr>\n",
       "      <td>6</td>\n",
       "      <td>940425262872825900</td>\n",
       "      <td>rt channingtatum alabamians  please get out and vote this tuesday dec th in the special senate election for dougjones watch amp share…</td>\n",
       "      <td>Tue Dec 12 03:37:09 +0000 2017</td>\n",
       "      <td>239548513</td>\n",
       "      <td>DougJones</td>\n",
       "      <td>Doug Jones</td>\n",
       "      <td>['DougJones']</td>\n",
       "    </tr>\n",
       "    <tr>\n",
       "      <td>7</td>\n",
       "      <td>940327264197206000</td>\n",
       "      <td>breaking charles barkley uzo aduba of orange is the new black will join doug tonight to host our gotv rally in birmingham at  pm check out the event details below</td>\n",
       "      <td>Mon Dec 11 21:07:44 +0000 2017</td>\n",
       "      <td>239548513</td>\n",
       "      <td>DougJones</td>\n",
       "      <td>Doug Jones</td>\n",
       "      <td>[]</td>\n",
       "    </tr>\n",
       "    <tr>\n",
       "      <td>8</td>\n",
       "      <td>939915462586101800</td>\n",
       "      <td>rt corybooker with gdouglasjones visiting churches in birmingham this morning so grateful for the rousing greeting we are receiving at…</td>\n",
       "      <td>Sun Dec 10 17:51:23 +0000 2017</td>\n",
       "      <td>239548513</td>\n",
       "      <td>DougJones</td>\n",
       "      <td>Doug Jones</td>\n",
       "      <td>[]</td>\n",
       "    </tr>\n",
       "    <tr>\n",
       "      <td>9</td>\n",
       "      <td>939724199609946100</td>\n",
       "      <td>thank you to a great alabamian jasonisbell for a great show and a great endorsement</td>\n",
       "      <td>Sun Dec 10 05:11:23 +0000 2017</td>\n",
       "      <td>239548513</td>\n",
       "      <td>DougJones</td>\n",
       "      <td>Doug Jones</td>\n",
       "      <td>[]</td>\n",
       "    </tr>\n",
       "  </tbody>\n",
       "</table>\n",
       "</div>"
      ],
      "text/plain": [
       "             tweet_id  \\\n",
       "0  940601256560783400   \n",
       "1  940625117176041500   \n",
       "2  939908592802648000   \n",
       "3  940583699728527400   \n",
       "4  940606216786665500   \n",
       "5  941381292205269000   \n",
       "6  940425262872825900   \n",
       "7  940327264197206000   \n",
       "8  939915462586101800   \n",
       "9  939724199609946100   \n",
       "\n",
       "                                                                                                                                                             full_text  \\\n",
       "0  rt ashparso gdouglasjones i voted dougjones dougjonesforsenate                                                                                                        \n",
       "1  today let’s get everyone to vote  thank you joebiden                                                                                                                  \n",
       "2  let us go to the polls to do our own work and remember that our life depends on it because it does  congresswoman sewell                                              \n",
       "3  today rightsideofhistory go vote                                                                                                                                      \n",
       "4  rt aldotcom just in case you were wondering   alpolitics alsen                                                                                                        \n",
       "5  it was great to join don dailey on aptv to talk about the campaign and our plan to bring alabamians together                                                          \n",
       "6  rt channingtatum alabamians  please get out and vote this tuesday dec th in the special senate election for dougjones watch amp share…                                \n",
       "7  breaking charles barkley uzo aduba of orange is the new black will join doug tonight to host our gotv rally in birmingham at  pm check out the event details below    \n",
       "8  rt corybooker with gdouglasjones visiting churches in birmingham this morning so grateful for the rousing greeting we are receiving at…                               \n",
       "9  thank you to a great alabamian jasonisbell for a great show and a great endorsement                                                                                   \n",
       "\n",
       "                       created_at    user_id screen_name   user_name  \\\n",
       "0  Tue Dec 12 15:16:29 +0000 2017  239548513  DougJones   Doug Jones   \n",
       "1  Tue Dec 12 16:51:18 +0000 2017  239548513  DougJones   Doug Jones   \n",
       "2  Sun Dec 10 17:24:05 +0000 2017  239548513  DougJones   Doug Jones   \n",
       "3  Tue Dec 12 14:06:43 +0000 2017  239548513  DougJones   Doug Jones   \n",
       "4  Tue Dec 12 15:36:12 +0000 2017  239548513  DougJones   Doug Jones   \n",
       "5  Thu Dec 14 18:56:04 +0000 2017  239548513  DougJones   Doug Jones   \n",
       "6  Tue Dec 12 03:37:09 +0000 2017  239548513  DougJones   Doug Jones   \n",
       "7  Mon Dec 11 21:07:44 +0000 2017  239548513  DougJones   Doug Jones   \n",
       "8  Sun Dec 10 17:51:23 +0000 2017  239548513  DougJones   Doug Jones   \n",
       "9  Sun Dec 10 05:11:23 +0000 2017  239548513  DougJones   Doug Jones   \n",
       "\n",
       "                  hashtags  \n",
       "0  []                       \n",
       "1  []                       \n",
       "2  []                       \n",
       "3  ['RightSideOfHistory']   \n",
       "4  ['alpolitics'; 'alsen']  \n",
       "5  []                       \n",
       "6  ['DougJones']            \n",
       "7  []                       \n",
       "8  []                       \n",
       "9  []                       "
      ]
     },
     "execution_count": 3,
     "metadata": {},
     "output_type": "execute_result"
    }
   ],
   "source": [
    "# Load tweet from members\n",
    "filename = '../data/115_Senators_during_term.csv'\n",
    "tweets_df = pd.read_csv(filename)\n",
    "tweets_df = tweets_df.head(50000)\n",
    "tweets_df.head(10)"
   ]
  },
  {
   "cell_type": "code",
   "execution_count": 4,
   "metadata": {},
   "outputs": [],
   "source": [
    "tweets_df = tweets_df.loc[tweets_df['full_text'].apply(type) == str]"
   ]
  },
  {
   "cell_type": "code",
   "execution_count": 5,
   "metadata": {},
   "outputs": [
    {
     "data": {
      "text/plain": [
       "array(['Doug Jones', 'Cory Booker', 'Lindsey Graham', 'Kamala Harris',\n",
       "       'Hatch', 'Luther Strange', 'Bernie Sanders',\n",
       "       'Shelley Moore Capito', 'Maggie Hassan', 'Thom Tillis',\n",
       "       'Jerry Moran', 'Tom Carper', 'Martin Heinrich', 'Pat Toomey',\n",
       "       'Bill Nelson', 'Mike Crapo', 'Mike Rounds', 'Todd Young',\n",
       "       'John Barrasso', 'Murphy', 'Steve Daines', 'John Thune',\n",
       "       'Susan Collins', 'Patty Murray', 'John McCain', 'Dianne Feinstein',\n",
       "       'Jack Reed', 'ChuckGrassley', 'Cortez Masto', 'McCaskill',\n",
       "       'Lamar Alexander', 'Pat Roberts', 'Ben Cardin', 'Ron Wyden',\n",
       "       'Dean Heller', 'Dick Durbin', 'Jeanne Shaheen',\n",
       "       'Sheldon Whitehouse', 'Tammy Duckworth', 'Tom Cotton',\n",
       "       'Bob Corker', 'Sherrod Brown', 'Tom Udall', 'Gary Peters',\n",
       "       'Ted Cruz', 'Johnny Isakson', 'James Lankford', 'McConnell',\n",
       "       'Mike Enzi', 'Jeff Flake', 'Kirsten Gillibrand', 'Bob Casey',\n",
       "       'Rubio', 'Angus King', 'Inhofe', 'Chris Van Hollen', 'Rob Portman',\n",
       "       'Thad Cochran', 'Richard Burr', 'Bob Menendez', 'John Boozman',\n",
       "       'Jon Tester', 'Mazie Hirono', 'Deb Fischer', 'Michael Bennet',\n",
       "       'Debbie Stabenow', 'Joe Manchin', 'Richard Blumenthal', 'Mike Lee',\n",
       "       'Elizabeth Warren', 'Ben Sasse', 'Brian Schatz', 'Jim Risch',\n",
       "       'Tammy Baldwin', 'Lisa Murkowski', 'David Perdue',\n",
       "       'Maria Cantwell', 'Cory Gardner', 'Bill Cassidy', 'Al Franken',\n",
       "       'Amy Klobuchar', 'Joe Donnelly', 'Roger Wicker', 'Chris Coons',\n",
       "       'Heidi Heitkamp', 'Joni Ernst', 'Mark Warner', 'John Cornyn',\n",
       "       'Patrick Leahy', 'Ron Johnson', 'Chuck Schumer', 'Jeff Merkley',\n",
       "       'Roy Blunt', 'John Kennedy', 'Richard Shelby', 'Ed Markey',\n",
       "       'Rand Paul', 'Tim Scott', 'John Hoeven', 'Dan Sullivan',\n",
       "       'Tim Kaine'], dtype=object)"
      ]
     },
     "execution_count": 5,
     "metadata": {},
     "output_type": "execute_result"
    }
   ],
   "source": [
    "tweets_df['user_name'].unique()"
   ]
  },
  {
   "cell_type": "code",
   "execution_count": 6,
   "metadata": {},
   "outputs": [],
   "source": [
    "dem_train_users = ['Chuck Schumer', 'Elizabeth Warren', 'Bernie Sanders','Michael Bennet', \\\n",
    "                   'Cory Booker', 'Amy Klobuchar']\n",
    "rep_train_users = ['McConnell', 'Rubio', 'John McCain', 'Ted Cruz']"
   ]
  },
  {
   "cell_type": "code",
   "execution_count": 7,
   "metadata": {},
   "outputs": [],
   "source": [
    "test_users = tweets_df['user_name'].unique().tolist()\n",
    "for user in (dem_train_users + rep_train_users):\n",
    "    test_users.remove(user)"
   ]
  },
  {
   "cell_type": "code",
   "execution_count": 8,
   "metadata": {},
   "outputs": [
    {
     "name": "stdout",
     "output_type": "stream",
     "text": [
      "No. of democratic training tweets is 3960\n",
      "No. of republican training tweets is 2550\n"
     ]
    }
   ],
   "source": [
    "print('No. of democratic training tweets is',\n",
    "tweets_df.loc[tweets_df['user_name'].isin(dem_train_users)].shape[0])\n",
    "print('No. of republican training tweets is',\n",
    "tweets_df.loc[tweets_df['user_name'].isin(rep_train_users)].shape[0])"
   ]
  },
  {
   "cell_type": "code",
   "execution_count": 9,
   "metadata": {},
   "outputs": [
    {
     "name": "stdout",
     "output_type": "stream",
     "text": [
      "No. of testing tweets is 43396\n"
     ]
    }
   ],
   "source": [
    "print('No. of testing tweets is',\n",
    "tweets_df.loc[tweets_df['user_name'].isin(test_users)].shape[0])"
   ]
  },
  {
   "cell_type": "code",
   "execution_count": 10,
   "metadata": {},
   "outputs": [
    {
     "name": "stdout",
     "output_type": "stream",
     "text": [
      "Index(['tweet_id', 'full_text', 'created_at', 'user_id', 'screen_name',\n",
      "       'user_name', 'hashtags'],\n",
      "      dtype='object')\n"
     ]
    }
   ],
   "source": [
    "print(tweets_df.columns)"
   ]
  },
  {
   "cell_type": "code",
   "execution_count": 11,
   "metadata": {},
   "outputs": [
    {
     "name": "stdout",
     "output_type": "stream",
     "text": [
      "(49906, 2820)\n"
     ]
    }
   ],
   "source": [
    "tweets_df['clean_tweet'] = tweets_df['full_text'].apply(clean_comment)\n",
    "bag_of_words, vectorizer = get_bag_of_words(tweets_df['clean_tweet'],ngram_range=(1,3), min_df=0.001)\n",
    "print(bag_of_words.shape) "
   ]
  },
  {
   "cell_type": "code",
   "execution_count": 12,
   "metadata": {},
   "outputs": [
    {
     "data": {
      "text/html": [
       "<div>\n",
       "<style scoped>\n",
       "    .dataframe tbody tr th:only-of-type {\n",
       "        vertical-align: middle;\n",
       "    }\n",
       "\n",
       "    .dataframe tbody tr th {\n",
       "        vertical-align: top;\n",
       "    }\n",
       "\n",
       "    .dataframe thead th {\n",
       "        text-align: right;\n",
       "    }\n",
       "</style>\n",
       "<table border=\"1\" class=\"dataframe\">\n",
       "  <thead>\n",
       "    <tr style=\"text-align: right;\">\n",
       "      <th></th>\n",
       "      <th>tweet_id</th>\n",
       "      <th>full_text</th>\n",
       "      <th>created_at</th>\n",
       "      <th>user_id</th>\n",
       "      <th>screen_name</th>\n",
       "      <th>user_name</th>\n",
       "      <th>hashtags</th>\n",
       "      <th>clean_tweet</th>\n",
       "    </tr>\n",
       "  </thead>\n",
       "  <tbody>\n",
       "    <tr>\n",
       "      <td>0</td>\n",
       "      <td>940601256560783400</td>\n",
       "      <td>rt ashparso gdouglasjones i voted dougjones dougjonesforsenate</td>\n",
       "      <td>Tue Dec 12 15:16:29 +0000 2017</td>\n",
       "      <td>239548513</td>\n",
       "      <td>DougJones</td>\n",
       "      <td>Doug Jones</td>\n",
       "      <td>[]</td>\n",
       "      <td>rt ashparso gdouglasjones i voted dougjones dougjonesforsenate</td>\n",
       "    </tr>\n",
       "    <tr>\n",
       "      <td>1</td>\n",
       "      <td>940625117176041500</td>\n",
       "      <td>today let’s get everyone to vote  thank you joebiden</td>\n",
       "      <td>Tue Dec 12 16:51:18 +0000 2017</td>\n",
       "      <td>239548513</td>\n",
       "      <td>DougJones</td>\n",
       "      <td>Doug Jones</td>\n",
       "      <td>[]</td>\n",
       "      <td>today let’s get everyone to vote  thank you joebiden</td>\n",
       "    </tr>\n",
       "    <tr>\n",
       "      <td>2</td>\n",
       "      <td>939908592802648000</td>\n",
       "      <td>let us go to the polls to do our own work and remember that our life depends on it because it does  congresswoman sewell</td>\n",
       "      <td>Sun Dec 10 17:24:05 +0000 2017</td>\n",
       "      <td>239548513</td>\n",
       "      <td>DougJones</td>\n",
       "      <td>Doug Jones</td>\n",
       "      <td>[]</td>\n",
       "      <td>let us go to the polls to do our own work and remember that our life depends on it because it does  congresswoman sewell</td>\n",
       "    </tr>\n",
       "    <tr>\n",
       "      <td>3</td>\n",
       "      <td>940583699728527400</td>\n",
       "      <td>today rightsideofhistory go vote</td>\n",
       "      <td>Tue Dec 12 14:06:43 +0000 2017</td>\n",
       "      <td>239548513</td>\n",
       "      <td>DougJones</td>\n",
       "      <td>Doug Jones</td>\n",
       "      <td>['RightSideOfHistory']</td>\n",
       "      <td>today rightsideofhistory go vote</td>\n",
       "    </tr>\n",
       "    <tr>\n",
       "      <td>4</td>\n",
       "      <td>940606216786665500</td>\n",
       "      <td>rt aldotcom just in case you were wondering   alpolitics alsen</td>\n",
       "      <td>Tue Dec 12 15:36:12 +0000 2017</td>\n",
       "      <td>239548513</td>\n",
       "      <td>DougJones</td>\n",
       "      <td>Doug Jones</td>\n",
       "      <td>['alpolitics'; 'alsen']</td>\n",
       "      <td>rt aldotcom just in case you were wondering   alpolitics alsen</td>\n",
       "    </tr>\n",
       "  </tbody>\n",
       "</table>\n",
       "</div>"
      ],
      "text/plain": [
       "             tweet_id  \\\n",
       "0  940601256560783400   \n",
       "1  940625117176041500   \n",
       "2  939908592802648000   \n",
       "3  940583699728527400   \n",
       "4  940606216786665500   \n",
       "\n",
       "                                                                                                                   full_text  \\\n",
       "0  rt ashparso gdouglasjones i voted dougjones dougjonesforsenate                                                              \n",
       "1  today let’s get everyone to vote  thank you joebiden                                                                        \n",
       "2  let us go to the polls to do our own work and remember that our life depends on it because it does  congresswoman sewell    \n",
       "3  today rightsideofhistory go vote                                                                                            \n",
       "4  rt aldotcom just in case you were wondering   alpolitics alsen                                                              \n",
       "\n",
       "                       created_at    user_id screen_name   user_name  \\\n",
       "0  Tue Dec 12 15:16:29 +0000 2017  239548513  DougJones   Doug Jones   \n",
       "1  Tue Dec 12 16:51:18 +0000 2017  239548513  DougJones   Doug Jones   \n",
       "2  Sun Dec 10 17:24:05 +0000 2017  239548513  DougJones   Doug Jones   \n",
       "3  Tue Dec 12 14:06:43 +0000 2017  239548513  DougJones   Doug Jones   \n",
       "4  Tue Dec 12 15:36:12 +0000 2017  239548513  DougJones   Doug Jones   \n",
       "\n",
       "                  hashtags  \\\n",
       "0  []                        \n",
       "1  []                        \n",
       "2  []                        \n",
       "3  ['RightSideOfHistory']    \n",
       "4  ['alpolitics'; 'alsen']   \n",
       "\n",
       "                                                                                                                 clean_tweet  \n",
       "0  rt ashparso gdouglasjones i voted dougjones dougjonesforsenate                                                             \n",
       "1  today let’s get everyone to vote  thank you joebiden                                                                       \n",
       "2  let us go to the polls to do our own work and remember that our life depends on it because it does  congresswoman sewell   \n",
       "3  today rightsideofhistory go vote                                                                                           \n",
       "4  rt aldotcom just in case you were wondering   alpolitics alsen                                                             "
      ]
     },
     "execution_count": 12,
     "metadata": {},
     "output_type": "execute_result"
    }
   ],
   "source": [
    "tweets_df.head(5)"
   ]
  },
  {
   "cell_type": "code",
   "execution_count": 13,
   "metadata": {},
   "outputs": [],
   "source": [
    "# Train binary multinomial Naive Bayes model\n",
    "from sklearn.naive_bayes import MultinomialNB, ComplementNB\n",
    "from sklearn import metrics\n",
    "def get_binary_NB_model(bag_of_words, df):\n",
    "    # Training data:\n",
    "    class1_words = bag_of_words[df['user_name'].isin(dem_train_users),:]\n",
    "    class2_words = bag_of_words[df['user_name'].isin(rep_train_users),:]\n",
    "    train_tweets = np.concatenate((class1_words,class2_words))\n",
    "    labels = np.concatenate((np.zeros(class1_words.shape[0]),np.ones(class2_words.shape[0])))\n",
    "    nb = ComplementNB()\n",
    "    nb.fit(train_tweets, labels)\n",
    "    # # Performance on training data\n",
    "    predictions = nb.predict(train_tweets)\n",
    "    print('Training Accuracy: ' + str(sum(labels==predictions)/len(labels)))\n",
    "    # Compute the error.\n",
    "    tn, fp, fn, tp = metrics.confusion_matrix(labels,predictions).ravel()\n",
    "    print(tn, fp, fn, tp)\n",
    "    return nb"
   ]
  },
  {
   "cell_type": "code",
   "execution_count": 14,
   "metadata": {},
   "outputs": [
    {
     "name": "stdout",
     "output_type": "stream",
     "text": [
      "Training Accuracy: 0.9053763440860215\n",
      "3529 431 185 2365\n"
     ]
    }
   ],
   "source": [
    "# Train a naive bayes model on tweets from specified training users from each party.\n",
    "nb_model = get_binary_NB_model(bag_of_words, tweets_df)"
   ]
  },
  {
   "cell_type": "code",
   "execution_count": null,
   "metadata": {},
   "outputs": [],
   "source": []
  }
 ],
 "metadata": {
  "kernelspec": {
   "display_name": "Python 3",
   "language": "python",
   "name": "python3"
  },
  "language_info": {
   "codemirror_mode": {
    "name": "ipython",
    "version": 3
   },
   "file_extension": ".py",
   "mimetype": "text/x-python",
   "name": "python",
   "nbconvert_exporter": "python",
   "pygments_lexer": "ipython3",
   "version": "3.6.8"
  }
 },
 "nbformat": 4,
 "nbformat_minor": 2
}
