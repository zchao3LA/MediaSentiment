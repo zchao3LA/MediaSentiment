{
 "cells": [
  {
   "cell_type": "code",
   "execution_count": 4,
   "metadata": {},
   "outputs": [
    {
     "name": "stderr",
     "output_type": "stream",
     "text": [
      "[nltk_data] Downloading package stopwords to C:\\Users\\Zehan\n",
      "[nltk_data]     Chao\\AppData\\Roaming\\nltk_data...\n",
      "[nltk_data]   Package stopwords is already up-to-date!\n"
     ]
    }
   ],
   "source": [
    "import numpy as np\n",
    "import pandas as pd\n",
    "import nltk\n",
    "import matplotlib.pyplot as plt\n",
    "import seaborn as sns\n",
    "sns.set(font_scale=1.5)\n",
    "from nltk.corpus import stopwords\n",
    "nltk.download('stopwords')\n",
    "from CleanData import clean_comment, get_bag_of_words\n",
    "import datetime\n",
    "\n",
    "# pd.set_option('display.max_columns', None)\n",
    "# pd.set_option('display.max_seq_items', None)\n",
    "# pd.set_option('display.max_rows', None)\n",
    "# pd.set_option('display.max_colwidth', -1)"
   ]
  },
  {
   "cell_type": "code",
   "execution_count": 5,
   "metadata": {
    "scrolled": false
   },
   "outputs": [
    {
     "data": {
      "text/html": [
       "<div>\n",
       "<style scoped>\n",
       "    .dataframe tbody tr th:only-of-type {\n",
       "        vertical-align: middle;\n",
       "    }\n",
       "\n",
       "    .dataframe tbody tr th {\n",
       "        vertical-align: top;\n",
       "    }\n",
       "\n",
       "    .dataframe thead th {\n",
       "        text-align: right;\n",
       "    }\n",
       "</style>\n",
       "<table border=\"1\" class=\"dataframe\">\n",
       "  <thead>\n",
       "    <tr style=\"text-align: right;\">\n",
       "      <th></th>\n",
       "      <th>Source</th>\n",
       "      <th>Bias</th>\n",
       "      <th>Quality</th>\n",
       "    </tr>\n",
       "  </thead>\n",
       "  <tbody>\n",
       "    <tr>\n",
       "      <td>0</td>\n",
       "      <td>ABC</td>\n",
       "      <td>-1.846000</td>\n",
       "      <td>49.866500</td>\n",
       "    </tr>\n",
       "    <tr>\n",
       "      <td>1</td>\n",
       "      <td>AP</td>\n",
       "      <td>-1.063261</td>\n",
       "      <td>52.189130</td>\n",
       "    </tr>\n",
       "    <tr>\n",
       "      <td>2</td>\n",
       "      <td>Al Jazeera</td>\n",
       "      <td>-3.705333</td>\n",
       "      <td>46.700000</td>\n",
       "    </tr>\n",
       "    <tr>\n",
       "      <td>3</td>\n",
       "      <td>Alternet</td>\n",
       "      <td>-19.156250</td>\n",
       "      <td>26.385000</td>\n",
       "    </tr>\n",
       "    <tr>\n",
       "      <td>4</td>\n",
       "      <td>American Spectator, The</td>\n",
       "      <td>21.767778</td>\n",
       "      <td>23.481111</td>\n",
       "    </tr>\n",
       "    <tr>\n",
       "      <td>...</td>\n",
       "      <td>...</td>\n",
       "      <td>...</td>\n",
       "      <td>...</td>\n",
       "    </tr>\n",
       "    <tr>\n",
       "      <td>103</td>\n",
       "      <td>Washington Times</td>\n",
       "      <td>12.966667</td>\n",
       "      <td>37.228000</td>\n",
       "    </tr>\n",
       "    <tr>\n",
       "      <td>104</td>\n",
       "      <td>Weather.com</td>\n",
       "      <td>-2.434000</td>\n",
       "      <td>51.300000</td>\n",
       "    </tr>\n",
       "    <tr>\n",
       "      <td>105</td>\n",
       "      <td>Wonkette</td>\n",
       "      <td>-27.716154</td>\n",
       "      <td>17.336923</td>\n",
       "    </tr>\n",
       "    <tr>\n",
       "      <td>106</td>\n",
       "      <td>World Truth TV</td>\n",
       "      <td>8.480769</td>\n",
       "      <td>15.262308</td>\n",
       "    </tr>\n",
       "    <tr>\n",
       "      <td>107</td>\n",
       "      <td>WorldNetDaily</td>\n",
       "      <td>18.320000</td>\n",
       "      <td>24.924000</td>\n",
       "    </tr>\n",
       "  </tbody>\n",
       "</table>\n",
       "<p>108 rows × 3 columns</p>\n",
       "</div>"
      ],
      "text/plain": [
       "                      Source       Bias    Quality\n",
       "0                        ABC  -1.846000  49.866500\n",
       "1                         AP  -1.063261  52.189130\n",
       "2                 Al Jazeera  -3.705333  46.700000\n",
       "3                   Alternet -19.156250  26.385000\n",
       "4    American Spectator, The  21.767778  23.481111\n",
       "..                       ...        ...        ...\n",
       "103         Washington Times  12.966667  37.228000\n",
       "104              Weather.com  -2.434000  51.300000\n",
       "105                 Wonkette -27.716154  17.336923\n",
       "106           World Truth TV   8.480769  15.262308\n",
       "107            WorldNetDaily  18.320000  24.924000\n",
       "\n",
       "[108 rows x 3 columns]"
      ]
     },
     "execution_count": 5,
     "metadata": {},
     "output_type": "execute_result"
    }
   ],
   "source": [
    "# Load all article reviews:\n",
    "media_bias = pd.read_csv('../data/MediaBiasChart.csv')\n",
    "media_bias = media_bias.groupby('Source').mean()\n",
    "media_bias.reset_index(level=0, inplace=True)\n",
    "media_bias"
   ]
  },
  {
   "cell_type": "code",
   "execution_count": 6,
   "metadata": {},
   "outputs": [
    {
     "data": {
      "text/plain": [
       "<matplotlib.collections.PathCollection at 0x1610f570b08>"
      ]
     },
     "execution_count": 6,
     "metadata": {},
     "output_type": "execute_result"
    },
    {
     "data": {
      "image/png": "[encoded data removed]",
      "text/plain": [
       "<Figure size 432x288 with 1 Axes>"
      ]
     },
     "metadata": {},
     "output_type": "display_data"
    }
   ],
   "source": [
    "plt.scatter(media_bias['Bias'].to_numpy(),media_bias['Quality'].to_numpy())"
   ]
  },
  {
   "cell_type": "code",
   "execution_count": 7,
   "metadata": {},
   "outputs": [
    {
     "data": {
      "text/plain": [
       "[]"
      ]
     },
     "execution_count": 7,
     "metadata": {},
     "output_type": "execute_result"
    },
    {
     "data": {
      "image/png": "[encoded data removed]",
      "text/plain": [
       "<Figure size 576x360 with 1 Axes>"
      ]
     },
     "metadata": {},
     "output_type": "display_data"
    }
   ],
   "source": [
    "from sklearn.cluster import KMeans\n",
    "from sklearn.metrics.pairwise import pairwise_distances_argmin\n",
    "centers = [[-20, 20], [-10, 35], [0, 50], [10, 35], [20, 20]]\n",
    "n_clusters = len(centers)\n",
    "X = media_bias[['Bias','Quality']].to_numpy()\n",
    "k_means = KMeans(init='k-means++', n_clusters=5, n_init=10)\n",
    "k_means.fit(X)\n",
    "\n",
    "colors = ['red', 'orange', 'green','blue','purple']\n",
    "fig = plt.figure(figsize=(8, 5))\n",
    "ax = fig.add_subplot(1, 1, 1)\n",
    "k_means_cluster_centers = k_means.cluster_centers_\n",
    "k_means_labels = pairwise_distances_argmin(X, k_means_cluster_centers)\n",
    "for k, col in zip(range(n_clusters), colors):\n",
    "    my_members = k_means_labels == k\n",
    "    cluster_center = k_means_cluster_centers[k]\n",
    "    ax.plot(X[my_members, 0], X[my_members, 1], 'w',\n",
    "            markerfacecolor=col, marker='.',markersize=12)\n",
    "    ax.plot(cluster_center[0], cluster_center[1], 'o', markerfacecolor=col,\n",
    "            markeredgecolor='k', markersize=8)\n",
    "ax.set_title('5-Class')\n",
    "ax.set_xticks(())\n",
    "ax.set_yticks(())"
   ]
  },
  {
   "cell_type": "code",
   "execution_count": 8,
   "metadata": {},
   "outputs": [
    {
     "data": {
      "text/plain": [
       "0                 ABC\n",
       "1                  AP\n",
       "2                 NaN\n",
       "3                 NaN\n",
       "4                 NaN\n",
       "            ...      \n",
       "103         WashTimes\n",
       "104    weatherchannel\n",
       "105               NaN\n",
       "106               NaN\n",
       "107               NaN\n",
       "Name: Source, Length: 108, dtype: object"
      ]
     },
     "execution_count": 8,
     "metadata": {},
     "output_type": "execute_result"
    }
   ],
   "source": [
    "# A hand-make dictionary mapping each media in MediaBiasChart_to_Tweet to their twitter account name\n",
    "# The full list of media twitter account is from news_outlet_tweet_IDs\n",
    "# at https://dataverse.harvard.edu/dataset.xhtml?persistentId=doi:10.7910/DVN/2FIFLH\n",
    "\n",
    "MediaBiasChart_to_Tweet = {'ABC':'ABC','AP':'AP','Axios':'axios','CNN':'CNN','Wall Street Journal':'WSJ',\\\n",
    "    'The Atlantic':'TheAtlantic','The Hill':'thehill', 'BBC':'BBC', 'Think Progress':'thinkprogress',\\\n",
    "    'MSNBC':'MSNBC','The Nation':'thenation','Daily Beast':'thedailybeast','Mother Jones':'MotherJones',\\\n",
    "    'CNSNews':'cnsnews','Fox News':'FoxNews', 'The Federalist':'FDRLST','Breitbart':'BreitbartNews',\\\n",
    "    'Daily Caller':'DailyCaller','The Blaze':'theblaze','Business Insider':'businessinsider',\\\n",
    "    'CBS':'CBSNews','The Economist':'TheEconomist','BuzzFeed':'BuzzFeed','Daily Signal':'DailySignal',\\\n",
    "    'New Republic':'newrepublic','Foreign Policy':'ForeignPolicy','IJR':'TheIJR','National Review':'NRO',\\\n",
    "    'National Public Radio':'NPR','New York Post':'nypost','New York Times':'nytimes','The New Yorker':'NewYorker',\\\n",
    "    'NewsMax':'newsmax','One America News Network':'OANN','Politico':'politico','Quartz':'qz',\\\n",
    "    'Reason':'reason','Reuters':'Reuters','Slate':'Slate','Talking Points Memo':'TPM','Vanity Fair':'VanityFair',\\\n",
    "    'Vox':'voxdotcom','Washington Examiner':'dcexaminer','Washington Free Beacon':'FreeBeacon',\\\n",
    "    'Washington Post':'washingtonpost','Washington Times':'WashTimes','The Week':'TheWeek','Bloomberg':'Bloomberg',\\\n",
    "    'Christian Science Monitor':'csmonitor', 'Democracy Now':'democracynow','Financial Times':'FT',\\\n",
    "    'Fiscal Times':'TheFiscalTimes','Forbes':'Forbes','Fortune':'FortuneMagazine','Forward':'jdforward',\\\n",
    "    'FreeSpeech TV':'freespeechtv','Huffington Post':'HuffPost','LA Times':'latimes','Marketwatch':'MarketWatch',\\\n",
    "    'OZY':'ozy','PBS':'PBS','ProPublica':'ProPublica','Time':'TIME','USA Today':'USATODAY',\\\n",
    "    'Weather.com':'weatherchannel'}\n",
    "\n",
    "media_bias.Source.map(MediaBiasChart_to_Tweet)"
   ]
  },
  {
   "cell_type": "code",
   "execution_count": 9,
   "metadata": {},
   "outputs": [
    {
     "data": {
      "text/html": [
       "<div>\n",
       "<style scoped>\n",
       "    .dataframe tbody tr th:only-of-type {\n",
       "        vertical-align: middle;\n",
       "    }\n",
       "\n",
       "    .dataframe tbody tr th {\n",
       "        vertical-align: top;\n",
       "    }\n",
       "\n",
       "    .dataframe thead th {\n",
       "        text-align: right;\n",
       "    }\n",
       "</style>\n",
       "<table border=\"1\" class=\"dataframe\">\n",
       "  <thead>\n",
       "    <tr style=\"text-align: right;\">\n",
       "      <th></th>\n",
       "      <th>Source</th>\n",
       "      <th>Bias</th>\n",
       "      <th>Quality</th>\n",
       "    </tr>\n",
       "  </thead>\n",
       "  <tbody>\n",
       "    <tr>\n",
       "      <td>0</td>\n",
       "      <td>ABC</td>\n",
       "      <td>-1.846000</td>\n",
       "      <td>49.866500</td>\n",
       "    </tr>\n",
       "    <tr>\n",
       "      <td>1</td>\n",
       "      <td>AP</td>\n",
       "      <td>-1.063261</td>\n",
       "      <td>52.189130</td>\n",
       "    </tr>\n",
       "    <tr>\n",
       "      <td>2</td>\n",
       "      <td>axios</td>\n",
       "      <td>-5.737857</td>\n",
       "      <td>47.303571</td>\n",
       "    </tr>\n",
       "    <tr>\n",
       "      <td>3</td>\n",
       "      <td>BBC</td>\n",
       "      <td>-3.033333</td>\n",
       "      <td>46.266667</td>\n",
       "    </tr>\n",
       "    <tr>\n",
       "      <td>4</td>\n",
       "      <td>Bloomberg</td>\n",
       "      <td>-0.850345</td>\n",
       "      <td>47.522759</td>\n",
       "    </tr>\n",
       "    <tr>\n",
       "      <td>...</td>\n",
       "      <td>...</td>\n",
       "      <td>...</td>\n",
       "      <td>...</td>\n",
       "    </tr>\n",
       "    <tr>\n",
       "      <td>60</td>\n",
       "      <td>dcexaminer</td>\n",
       "      <td>12.166250</td>\n",
       "      <td>35.485000</td>\n",
       "    </tr>\n",
       "    <tr>\n",
       "      <td>61</td>\n",
       "      <td>FreeBeacon</td>\n",
       "      <td>16.708125</td>\n",
       "      <td>36.187500</td>\n",
       "    </tr>\n",
       "    <tr>\n",
       "      <td>62</td>\n",
       "      <td>washingtonpost</td>\n",
       "      <td>-4.179888</td>\n",
       "      <td>44.567303</td>\n",
       "    </tr>\n",
       "    <tr>\n",
       "      <td>63</td>\n",
       "      <td>WashTimes</td>\n",
       "      <td>12.966667</td>\n",
       "      <td>37.228000</td>\n",
       "    </tr>\n",
       "    <tr>\n",
       "      <td>64</td>\n",
       "      <td>weatherchannel</td>\n",
       "      <td>-2.434000</td>\n",
       "      <td>51.300000</td>\n",
       "    </tr>\n",
       "  </tbody>\n",
       "</table>\n",
       "<p>65 rows × 3 columns</p>\n",
       "</div>"
      ],
      "text/plain": [
       "            Source       Bias    Quality\n",
       "0              ABC  -1.846000  49.866500\n",
       "1               AP  -1.063261  52.189130\n",
       "2            axios  -5.737857  47.303571\n",
       "3              BBC  -3.033333  46.266667\n",
       "4        Bloomberg  -0.850345  47.522759\n",
       "..             ...        ...        ...\n",
       "60      dcexaminer  12.166250  35.485000\n",
       "61      FreeBeacon  16.708125  36.187500\n",
       "62  washingtonpost  -4.179888  44.567303\n",
       "63       WashTimes  12.966667  37.228000\n",
       "64  weatherchannel  -2.434000  51.300000\n",
       "\n",
       "[65 rows x 3 columns]"
      ]
     },
     "execution_count": 9,
     "metadata": {},
     "output_type": "execute_result"
    }
   ],
   "source": [
    "media_bias['Source'] = media_bias.Source.map(MediaBiasChart_to_Tweet)\n",
    "media_bias = media_bias.dropna()\n",
    "media_bias.reset_index(drop=True)"
   ]
  },
  {
   "cell_type": "code",
   "execution_count": 41,
   "metadata": {},
   "outputs": [
    {
     "data": {
      "text/plain": [
       "(1094757, 5)"
      ]
     },
     "execution_count": 41,
     "metadata": {},
     "output_type": "execute_result"
    }
   ],
   "source": [
    "df1 = pd.read_csv('../data/filtered_part1.csv')\n",
    "df2 = pd.read_csv('../data/filtered_part2.csv')\n",
    "df3 = pd.read_csv('../data/filtered_part3.csv')\n",
    "df4 = pd.read_csv('../data/filtered_part7.csv')\n",
    "df = pd.concat([df1, df2, df3, df4], sort = False)\n",
    "df.shape"
   ]
  },
  {
   "cell_type": "code",
   "execution_count": 14,
   "metadata": {},
   "outputs": [
    {
     "data": {
      "text/plain": [
       "user_screen_name\n",
       "ABC                19218\n",
       "AP                 17593\n",
       "BBC                 1998\n",
       "Bloomberg             53\n",
       "BreitbartNews       6097\n",
       "BuzzFeed            7815\n",
       "CBSNews            19804\n",
       "CNN                24744\n",
       "DailyCaller        13308\n",
       "DailySignal         5330\n",
       "FDRLST              5293\n",
       "FT                  6904\n",
       "Forbes              6452\n",
       "ForeignPolicy       6452\n",
       "FortuneMagazine     8627\n",
       "FoxNews            32025\n",
       "FreeBeacon          7416\n",
       "HuffPost            5150\n",
       "MSNBC              10273\n",
       "MarketWatch        10754\n",
       "MotherJones         6965\n",
       "NPR                 5522\n",
       "NRO                 6804\n",
       "NewYorker           5037\n",
       "OANN                4408\n",
       "PBS                 3764\n",
       "Reuters            32057\n",
       "Slate              14737\n",
       "TIME               14012\n",
       "TPM                 3085\n",
       "TheAtlantic         4814\n",
       "TheEconomist       17696\n",
       "TheFiscalTimes      3208\n",
       "TheIJR              3859\n",
       "TheWeek             6335\n",
       "USATODAY           11778\n",
       "VanityFair          2867\n",
       "WSJ                21152\n",
       "WashTimes          12310\n",
       "axios               6496\n",
       "businessinsider    30509\n",
       "cnsnews             4085\n",
       "csmonitor          10534\n",
       "dcexaminer         16156\n",
       "democracynow        5493\n",
       "freespeechtv        6835\n",
       "jdforward           5678\n",
       "latimes            15323\n",
       "newrepublic         2771\n",
       "newsmax             4085\n",
       "nypost             12608\n",
       "nytimes            21308\n",
       "ozy                 4460\n",
       "politico           25817\n",
       "qz                  6204\n",
       "reason              4698\n",
       "theblaze            6058\n",
       "thedailybeast      10355\n",
       "thehill            32649\n",
       "thenation           1097\n",
       "thinkprogress       4781\n",
       "voxdotcom           9030\n",
       "washingtonpost     22417\n",
       "weatherchannel      8364\n",
       "dtype: int64"
      ]
     },
     "execution_count": 14,
     "metadata": {},
     "output_type": "execute_result"
    }
   ],
   "source": [
    "# Most of the medias has a fairly good amount of Tweets to be analyzed\n",
    "pd.set_option('display.max_rows', None)\n",
    "df.groupby(df['user_screen_name']).size()"
   ]
  },
  {
   "cell_type": "code",
   "execution_count": 17,
   "metadata": {},
   "outputs": [
    {
     "data": {
      "text/plain": [
       "<matplotlib.axes._subplots.AxesSubplot at 0x16110bfa548>"
      ]
     },
     "execution_count": 17,
     "metadata": {},
     "output_type": "execute_result"
    },
    {
     "data": {
      "image/png": "[encoded data removed]",
      "text/plain": [
       "<Figure size 432x288 with 1 Axes>"
      ]
     },
     "metadata": {},
     "output_type": "display_data"
    }
   ],
   "source": [
    "df['created_at'] = pd.to_datetime(df['created_at'])\n",
    "df.groupby([df['created_at'].dt.year, df['created_at'].dt.month]).size().plot()"
   ]
  },
  {
   "cell_type": "code",
   "execution_count": 39,
   "metadata": {},
   "outputs": [
    {
     "data": {
      "text/html": [
       "<div>\n",
       "<style scoped>\n",
       "    .dataframe tbody tr th:only-of-type {\n",
       "        vertical-align: middle;\n",
       "    }\n",
       "\n",
       "    .dataframe tbody tr th {\n",
       "        vertical-align: top;\n",
       "    }\n",
       "\n",
       "    .dataframe thead th {\n",
       "        text-align: right;\n",
       "    }\n",
       "</style>\n",
       "<table border=\"1\" class=\"dataframe\">\n",
       "  <thead>\n",
       "    <tr style=\"text-align: right;\">\n",
       "      <th></th>\n",
       "      <th>user_screen_name</th>\n",
       "      <th>text</th>\n",
       "      <th>created_at</th>\n",
       "      <th>hashtags</th>\n",
       "    </tr>\n",
       "  </thead>\n",
       "  <tbody>\n",
       "    <tr>\n",
       "      <td>1</td>\n",
       "      <td>NewYorker</td>\n",
       "      <td>It’s striking to hear Trump imply that Nazis a...</td>\n",
       "      <td>2017-08-14 01:04:07+00:00</td>\n",
       "      <td>NaN</td>\n",
       "    </tr>\n",
       "    <tr>\n",
       "      <td>2</td>\n",
       "      <td>NewYorker</td>\n",
       "      <td>Though the movie “Good Time” is strewn with hu...</td>\n",
       "      <td>2017-08-14 01:30:07+00:00</td>\n",
       "      <td>NaN</td>\n",
       "    </tr>\n",
       "    <tr>\n",
       "      <td>3</td>\n",
       "      <td>NewYorker</td>\n",
       "      <td>What it feels like on Guam, caught between Tru...</td>\n",
       "      <td>2017-08-13 17:00:12+00:00</td>\n",
       "      <td>NaN</td>\n",
       "    </tr>\n",
       "    <tr>\n",
       "      <td>4</td>\n",
       "      <td>NewYorker</td>\n",
       "      <td>Things to do with newspapers to avoid reading ...</td>\n",
       "      <td>2017-08-13 23:30:16+00:00</td>\n",
       "      <td>NaN</td>\n",
       "    </tr>\n",
       "    <tr>\n",
       "      <td>5</td>\n",
       "      <td>NewYorker</td>\n",
       "      <td>This week's cover, \"Upstate,\" by Adrian Tomine...</td>\n",
       "      <td>2017-08-14 12:00:29+00:00</td>\n",
       "      <td>NaN</td>\n",
       "    </tr>\n",
       "  </tbody>\n",
       "</table>\n",
       "</div>"
      ],
      "text/plain": [
       "  user_screen_name                                               text  \\\n",
       "1        NewYorker  It’s striking to hear Trump imply that Nazis a...   \n",
       "2        NewYorker  Though the movie “Good Time” is strewn with hu...   \n",
       "3        NewYorker  What it feels like on Guam, caught between Tru...   \n",
       "4        NewYorker  Things to do with newspapers to avoid reading ...   \n",
       "5        NewYorker  This week's cover, \"Upstate,\" by Adrian Tomine...   \n",
       "\n",
       "                  created_at hashtags  \n",
       "1  2017-08-14 01:04:07+00:00      NaN  \n",
       "2  2017-08-14 01:30:07+00:00      NaN  \n",
       "3  2017-08-13 17:00:12+00:00      NaN  \n",
       "4  2017-08-13 23:30:16+00:00      NaN  \n",
       "5  2017-08-14 12:00:29+00:00      NaN  "
      ]
     },
     "execution_count": 39,
     "metadata": {},
     "output_type": "execute_result"
    }
   ],
   "source": [
    "df1 = pd.read_csv('../data/filtered_part2.csv')\n",
    "df1 = df1.reset_index(drop=True)\n",
    "header = df1.iloc[0]\n",
    "df1 = df1[1:]\n",
    "df1.rename(columns = header)\n",
    "df1.head(5)"
   ]
  },
  {
   "cell_type": "code",
   "execution_count": null,
   "metadata": {},
   "outputs": [],
   "source": []
  }
 ],
 "metadata": {
  "kernelspec": {
   "display_name": "Python 3",
   "language": "python",
   "name": "python3"
  },
  "language_info": {
   "codemirror_mode": {
    "name": "ipython",
    "version": 3
   },
   "file_extension": ".py",
   "mimetype": "text/x-python",
   "name": "python",
   "nbconvert_exporter": "python",
   "pygments_lexer": "ipython3",
   "version": "3.7.4"
  }
 },
 "nbformat": 4,
 "nbformat_minor": 2
}
