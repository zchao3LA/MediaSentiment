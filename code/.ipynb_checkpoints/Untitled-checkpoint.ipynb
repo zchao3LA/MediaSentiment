{
 "cells": [
  {
   "cell_type": "code",
   "execution_count": 30,
   "metadata": {},
   "outputs": [
    {
     "name": "stdout",
     "output_type": "stream",
     "text": [
      "Loading and Processing Data ...\n"
     ]
    }
   ],
   "source": [
    "import pandas as pd\n",
    "import csv\n",
    "import matplotlib.pyplot as plt\n",
    "import numpy as np\n",
    "import scipy\n",
    "import tensorflow as tf\n",
    "from tensorflow.keras.preprocessing.text import Tokenizer\n",
    "from tensorflow.keras.preprocessing.sequence import pad_sequences\n",
    "from random import sample\n",
    "import re\n",
    "from nltk.corpus import stopwords\n",
    "STOPWORDS = set(stopwords.words('english'))\n",
    "print('Loading and Processing Data ...')\n",
    "# df = pd.read_csv('../data/filtered_all.csv')\n",
    "# df2 = df.groupby('user_screen_name').head(1000).reset_index(drop=True)\n",
    "df2 = pd.read_csv('../data/media_1k_per.csv')\n",
    "coor = pd.read_csv('../data/Media_coordinate.csv')\n"
   ]
  },
  {
   "cell_type": "code",
   "execution_count": 31,
   "metadata": {},
   "outputs": [
    {
     "name": "stdout",
     "output_type": "stream",
     "text": [
      "Loading and Processing Data Complete!\n"
     ]
    }
   ],
   "source": [
    "def assign_coor(df, coor):\n",
    "    media2bias = dict(zip(coor.Source, coor.Bias))\n",
    "    df['bias'] = df['user_screen_name'].map(media2bias)\n",
    "    df['bias'] = df['bias']/df['bias'].abs().max()\n",
    "    media2qual = dict(zip(coor.Source, coor.Quality))\n",
    "    df['quality'] = df['user_screen_name'].map(media2qual)\n",
    "    df['quality'] = df['quality'] - df['quality'].abs().min()\n",
    "    df['quality'] = df['quality']/df['quality'].abs().max()\n",
    "    df = df.sample(frac=1,replace=True).reset_index(drop=True)\n",
    "    return df\n",
    "    \n",
    "df = assign_coor(df2, coor)\n",
    "articles = []\n",
    "labels = []\n",
    "\n",
    "def remove_urls (vTEXT):\n",
    "    vTEXT = re.sub(r'(https|http)?:\\/\\/(\\w|\\.|\\/|\\?|\\=|\\&|\\%)*\\b', '', vTEXT, flags=re.MULTILINE)\n",
    "    return(vTEXT)\n",
    "\n",
    "for index, row in df.iterrows():\n",
    "    labels.append(row[['bias','quality']])\n",
    "    article = row['text']\n",
    "    for word in STOPWORDS:\n",
    "        token = ' ' + word + ' '\n",
    "        article = article.replace(token, ' ')\n",
    "        article = article.replace(' ', ' ')\n",
    "        article = remove_urls(article)\n",
    "    articles.append(article)\n",
    "    \n",
    "# print(len(labels))\n",
    "# print(len(articles))\n",
    "# print((articles[0],labels[0]))\n",
    "\n",
    "print('Loading and Processing Data Complete!')\n",
    "vocab_size = 5000\n",
    "embedding_dim = 100\n",
    "max_length = 100\n",
    "trunc_type = 'post'\n",
    "padding_type = 'post'\n",
    "oov_tok = '<OOV>'"
   ]
  },
  {
   "cell_type": "code",
   "execution_count": 32,
   "metadata": {},
   "outputs": [],
   "source": [
    "train_size = .8\n",
    "\n",
    "train_size0 = len(articles) * train_size\n",
    "train_articles = articles[0: int(train_size0)]\n",
    "# train_index = sample(list(range(len(articles))), int(train_size0))\n",
    "# train_articles = [articles[i] for i in train_index]\n",
    "tokenizer = Tokenizer(num_words = vocab_size, oov_token=oov_tok)\n",
    "tokenizer.fit_on_texts(train_articles)\n",
    "word_index = tokenizer.word_index\n",
    "\n",
    "\n",
    "train_labels = labels[0: int(train_size0)]\n",
    "# train_labels = [labels[i] for i in train_index]\n",
    "train_sequences = tokenizer.texts_to_sequences(train_articles)\n",
    "train_padded = pad_sequences(train_sequences, maxlen=max_length, padding=padding_type, truncating=trunc_type)\n",
    "validation_articles = articles[int(train_size0):]\n",
    "# validation_articles = articles\n",
    "validation_labels = labels[int(train_size0):]\n",
    "# validation_labels = labels\n",
    "validation_sequences = tokenizer.texts_to_sequences(validation_articles)\n",
    "validation_padded = pad_sequences(validation_sequences, maxlen=max_length, padding=padding_type, truncating=trunc_type)\n",
    "training_label_seq = np.array(train_labels).astype('float32')\n",
    "validation_label_seq = np.array(validation_labels).astype('float32')"
   ]
  },
  {
   "cell_type": "code",
   "execution_count": 33,
   "metadata": {},
   "outputs": [
    {
     "name": "stdout",
     "output_type": "stream",
     "text": [
      "Train on 51301 samples\n",
      "Epoch 1/10\n",
      "51301/51301 [==============================] - 25s 484us/sample - loss: 0.1492\n",
      "Epoch 2/10\n",
      "51301/51301 [==============================] - 22s 433us/sample - loss: 0.1388\n",
      "Epoch 3/10\n",
      "51301/51301 [==============================] - 22s 433us/sample - loss: 0.1267\n",
      "Epoch 4/10\n",
      "51301/51301 [==============================] - 22s 432us/sample - loss: 0.1200\n",
      "Epoch 5/10\n",
      "51301/51301 [==============================] - 22s 436us/sample - loss: 0.1150\n",
      "Epoch 6/10\n",
      "51301/51301 [==============================] - 22s 434us/sample - loss: 0.1110\n",
      "Epoch 7/10\n",
      "51301/51301 [==============================] - 22s 433us/sample - loss: 0.1086\n",
      "Epoch 8/10\n",
      "51301/51301 [==============================] - 22s 436us/sample - loss: 0.1063\n",
      "Epoch 9/10\n",
      "51301/51301 [==============================] - 22s 438us/sample - loss: 0.1046\n",
      "Epoch 10/10\n",
      "51301/51301 [==============================] - 22s 434us/sample - loss: 0.1035\n"
     ]
    },
    {
     "data": {
      "text/plain": [
       "<tensorflow.python.keras.callbacks.History at 0x217645024e0>"
      ]
     },
     "execution_count": 33,
     "metadata": {},
     "output_type": "execute_result"
    }
   ],
   "source": [
    "model = tf.keras.Sequential([\n",
    "    tf.keras.layers.Embedding(vocab_size, embedding_dim),\n",
    "    tf.keras.layers.Bidirectional(tf.keras.layers.LSTM(embedding_dim)),\n",
    "    tf.keras.layers.Dense(embedding_dim, activation='relu'),\n",
    "    tf.keras.layers.Dense(2, activation = 'softmax')\n",
    "])\n",
    "\n",
    "model.compile(optimizer='adam', loss=\"mse\")\n",
    "num_epochs = 10\n",
    "# history = model.fit(train_padded, training_label_seq, epochs=num_epochs, validation_data=(validation_padded, validation_label_seq), verbose=1)\n",
    "model.fit(train_padded, training_label_seq, epochs=num_epochs, verbose=1)"
   ]
  },
  {
   "cell_type": "code",
   "execution_count": 34,
   "metadata": {},
   "outputs": [],
   "source": [
    "sequences = tokenizer.texts_to_sequences(articles)\n",
    "sequences = pad_sequences(sequences, maxlen=max_length, padding=padding_type, truncating=trunc_type)\n",
    "output = model.predict(sequences)\n",
    "bias_pred = output[:,0]\n",
    "qual_pred = output[:,1]\n",
    "# df['bias_pred'] = bias_pred\n",
    "# df['qual_pred'] = qual_pred"
   ]
  },
  {
   "cell_type": "code",
   "execution_count": 35,
   "metadata": {},
   "outputs": [
    {
     "name": "stdout",
     "output_type": "stream",
     "text": [
      "0.9986951106188039 0.9933861127064462\n"
     ]
    },
    {
     "name": "stderr",
     "output_type": "stream",
     "text": [
      "C:\\Users\\zchao\\anaconda3\\envs\\tensorflow\\lib\\site-packages\\pandas\\core\\indexing.py:671: SettingWithCopyWarning: \n",
      "A value is trying to be set on a copy of a slice from a DataFrame\n",
      "\n",
      "See the caveats in the documentation: https://pandas.pydata.org/pandas-docs/stable/user_guide/indexing.html#returning-a-view-versus-a-copy\n",
      "  self._setitem_with_indexer(indexer, value)\n"
     ]
    }
   ],
   "source": [
    "df_test = df\n",
    "# df_test['bias_pred'] = df_test['bias']\n",
    "# df_test['qual_pred'] = df_test['quality']\n",
    "# df_test['bias_pred'].iloc[int(train_size0):] = bias_pred[int(train_size0):]\n",
    "# df_test['qual_pred'].iloc[int(train_size0):] = qual_pred[int(train_size0):]\n",
    "df_test['bias_pred'] = bias_pred\n",
    "df_test['qual_pred'] = qual_pred\n",
    "# coor = coor.sort_values(by = ['Source'])\n",
    "average_bias = df_test.groupby(['user_screen_name']).bias_pred.mean()\n",
    "average_qual = df_test.groupby(['user_screen_name']).qual_pred.mean()\n",
    "bias = df_test.groupby(['user_screen_name']).bias.mean()\n",
    "quality = df_test.groupby(['user_screen_name']).quality.mean()\n",
    "\n",
    "corr_bias = scipy.stats.pearsonr(average_bias.tolist(), bias.tolist())[0]\n",
    "corr_quality = scipy.stats.pearsonr(average_qual.tolist(), quality.tolist())[0]\n",
    "\n",
    "print(corr_bias, corr_quality)"
   ]
  },
  {
   "cell_type": "code",
   "execution_count": 17,
   "metadata": {},
   "outputs": [],
   "source": [
    "a = articles[0]"
   ]
  },
  {
   "cell_type": "code",
   "execution_count": 39,
   "metadata": {},
   "outputs": [
    {
     "data": {
      "text/plain": [
       "'Fidel Castro Dead 90: Barbara Walters talks meetings Castro  '"
      ]
     },
     "execution_count": 39,
     "metadata": {},
     "output_type": "execute_result"
    }
   ],
   "source": [
    "def remove_urls (vTEXT):\n",
    "    vTEXT = re.sub(r'(https|http)?:\\/\\/(\\w|\\.|\\/|\\?|\\=|\\&|\\%)*\\b', '', vTEXT, flags=re.MULTILINE)\n",
    "    return(vTEXT)\n",
    "a1 = remove_urls(a)\n",
    "a1"
   ]
  },
  {
   "cell_type": "code",
   "execution_count": 36,
   "metadata": {},
   "outputs": [
    {
     "data": {
      "text/plain": [
       "51301.600000000006"
      ]
     },
     "execution_count": 36,
     "metadata": {},
     "output_type": "execute_result"
    }
   ],
   "source": [
    "train_size0"
   ]
  },
  {
   "cell_type": "code",
   "execution_count": 19,
   "metadata": {},
   "outputs": [
    {
     "data": {
      "text/html": [
       "<div>\n",
       "<style scoped>\n",
       "    .dataframe tbody tr th:only-of-type {\n",
       "        vertical-align: middle;\n",
       "    }\n",
       "\n",
       "    .dataframe tbody tr th {\n",
       "        vertical-align: top;\n",
       "    }\n",
       "\n",
       "    .dataframe thead th {\n",
       "        text-align: right;\n",
       "    }\n",
       "</style>\n",
       "<table border=\"1\" class=\"dataframe\">\n",
       "  <thead>\n",
       "    <tr style=\"text-align: right;\">\n",
       "      <th></th>\n",
       "      <th>Source</th>\n",
       "      <th>Bias</th>\n",
       "      <th>Quality</th>\n",
       "    </tr>\n",
       "  </thead>\n",
       "  <tbody>\n",
       "    <tr>\n",
       "      <th>0</th>\n",
       "      <td>ABC</td>\n",
       "      <td>-1.846000</td>\n",
       "      <td>49.866500</td>\n",
       "    </tr>\n",
       "    <tr>\n",
       "      <th>1</th>\n",
       "      <td>AP</td>\n",
       "      <td>-1.063261</td>\n",
       "      <td>52.189130</td>\n",
       "    </tr>\n",
       "    <tr>\n",
       "      <th>2</th>\n",
       "      <td>axios</td>\n",
       "      <td>-5.737857</td>\n",
       "      <td>47.303571</td>\n",
       "    </tr>\n",
       "    <tr>\n",
       "      <th>3</th>\n",
       "      <td>BBC</td>\n",
       "      <td>-3.033333</td>\n",
       "      <td>46.266667</td>\n",
       "    </tr>\n",
       "    <tr>\n",
       "      <th>4</th>\n",
       "      <td>Bloomberg</td>\n",
       "      <td>-0.850345</td>\n",
       "      <td>47.522759</td>\n",
       "    </tr>\n",
       "  </tbody>\n",
       "</table>\n",
       "</div>"
      ],
      "text/plain": [
       "      Source      Bias    Quality\n",
       "0        ABC -1.846000  49.866500\n",
       "1         AP -1.063261  52.189130\n",
       "2      axios -5.737857  47.303571\n",
       "3        BBC -3.033333  46.266667\n",
       "4  Bloomberg -0.850345  47.522759"
      ]
     },
     "execution_count": 19,
     "metadata": {},
     "output_type": "execute_result"
    }
   ],
   "source": [
    "coor.head(5)"
   ]
  },
  {
   "cell_type": "code",
   "execution_count": null,
   "metadata": {},
   "outputs": [],
   "source": []
  }
 ],
 "metadata": {
  "kernelspec": {
   "display_name": "Python 3",
   "language": "python",
   "name": "python3"
  },
  "language_info": {
   "codemirror_mode": {
    "name": "ipython",
    "version": 3
   },
   "file_extension": ".py",
   "mimetype": "text/x-python",
   "name": "python",
   "nbconvert_exporter": "python",
   "pygments_lexer": "ipython3",
   "version": "3.6.10"
  }
 },
 "nbformat": 4,
 "nbformat_minor": 4
}
